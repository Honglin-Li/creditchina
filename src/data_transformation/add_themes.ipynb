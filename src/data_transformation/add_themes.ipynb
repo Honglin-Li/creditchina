{
 "cells": [
  {
   "cell_type": "code",
   "execution_count": null,
   "id": "0f4ecdb2",
   "metadata": {},
   "outputs": [],
   "source": [
    "\"\"\"\n",
    "add_theme\n",
    "\n",
    "A module to add theme classifications for observations without authorities in permit, penalty, and commit events.\n",
    "\"\"\""
   ]
  },
  {
   "cell_type": "code",
   "execution_count": 1,
   "id": "a0095853",
   "metadata": {},
   "outputs": [],
   "source": [
    "# for jupyter notebook\n",
    "from pathlib import Path\n",
    "import sys\n",
    "\n",
    "sys.path.insert(0, str(Path().resolve().parents[0].parents[0]))\n",
    "\n",
    "from src.data_transformation.theme_classification import prepare_permit_ds, prepare_penalty_ds, prepare_commitment_ds, save_event_with_theme, predict\n",
    "from src.data_transformation.utils import draw_bar, sub_event_path\n",
    "import pandas as pd\n",
    "import os"
   ]
  },
  {
   "cell_type": "code",
   "execution_count": 9,
   "id": "c3d304c7",
   "metadata": {},
   "outputs": [],
   "source": [
    "def add_penalty_themes(df_event_penalty=None):\n",
    "    \"\"\"\n",
    "    Add theme column to the penalty event by classification with the tuned hyperparameters, then save to local.\n",
    "    \n",
    "    Parameters\n",
    "    ----------\n",
    "    df_event_penalty ：DataFrame, optional\n",
    "    \n",
    "    Returns\n",
    "    -------\n",
    "    DataFrame\n",
    "        The DataFrame event with theme columns.\n",
    "    \"\"\"\n",
    "    if df_event_penalty is None:\n",
    "        df_event_penalty = pd.read_excel(os.path.join(sub_event_path, '12_event_penalty.xlsx'))\n",
    "    \n",
    "    ds_train, ds_unseen, df_train, df_test = prepare_penalty_ds(df_event_penalty)\n",
    "\n",
    "    df_unseen = predict(ds_unseen, 'penalty_model.pickle')\n",
    "\n",
    "    print('Distribution of unseen records')\n",
    "    draw_bar(df_unseen.theme)\n",
    "\n",
    "    # save to local\n",
    "    return save_event_with_theme(df_event_penalty, ds_train, df_unseen, '12_event_penalty.xlsx')\n",
    "    "
   ]
  },
  {
   "cell_type": "code",
   "execution_count": 22,
   "id": "d8105d3e",
   "metadata": {},
   "outputs": [],
   "source": [
    "def add_commitment_themes(df_event_commitment=None, t=0.65):\n",
    "    \"\"\"\n",
    "    Add theme column to the commitment event by classification with the tuned hyperparameters, then save to local.\n",
    "    \n",
    "    Parameters\n",
    "    ----------\n",
    "    df_event_commitment ：DataFrame, optional\n",
    "    t : float, default 0.65\n",
    "        The probablity threshold of predicting.\n",
    "    \n",
    "    Returns\n",
    "    -------\n",
    "    DataFrame\n",
    "        The DataFrame event with theme columns.\n",
    "    \"\"\"\n",
    "    if df_event_commitment is None:\n",
    "        df_event_commitment = pd.read_excel(os.path.join(sub_event_path, '51_event_commitment_implementation.xlsx'))\n",
    "    \n",
    "    ds_train, ds_unseen, df_train, df_test = prepare_commitment_ds(df_event_commitment)\n",
    "    df_unseen = predict(ds_unseen, 'commit_model.pickle', t)\n",
    "\n",
    "    print('Distribution of unseen records')\n",
    "    draw_bar(df_unseen.theme)\n",
    "\n",
    "    # save to local\n",
    "    return save_event_with_theme(df_event_commitment, ds_train, df_unseen, '51_event_commitment_implementation.xlsx')\n",
    "    "
   ]
  },
  {
   "cell_type": "code",
   "execution_count": 18,
   "id": "d7d3f829",
   "metadata": {},
   "outputs": [],
   "source": [
    "def add_permit_themes(df_event_permit=None, t=0.75):\n",
    "    \"\"\"\n",
    "    Add theme column to the permit event by classification with the tuned hyperparameters, then save to local.\n",
    "    \n",
    "    Parameters\n",
    "    ----------\n",
    "    df_event_permit ：DataFrame, optional\n",
    "    t : float, default 0.65\n",
    "        The probablity threshold of predicting.\n",
    "    \n",
    "    Returns\n",
    "    -------\n",
    "    DataFrame\n",
    "        The DataFrame event with theme columns.\n",
    "    \"\"\"\n",
    "    if df_event_permit is None:\n",
    "        df_event_permit = pd.read_excel(os.path.join(sub_event_path, '11_event_permit.xlsx'))\n",
    "    \n",
    "    ds_train, ds_unseen, df_train, df_test = prepare_permit_ds(df_event_permit)\n",
    "    df_unseen = predict(ds_unseen, 'permit_model.pickle', t) \n",
    "\n",
    "    print('Distribution of unseen records')\n",
    "    draw_bar(df_unseen.theme)\n",
    "\n",
    "    # save to local\n",
    "    return save_event_with_theme(df_event_permit, ds_train, df_unseen, '11_event_permit.xlsx')\n"
   ]
  },
  {
   "cell_type": "code",
   "execution_count": null,
   "id": "211a573c",
   "metadata": {},
   "outputs": [],
   "source": []
  }
 ],
 "metadata": {
  "kernelspec": {
   "display_name": "Python 3 (ipykernel)",
   "language": "python",
   "name": "python3"
  },
  "language_info": {
   "codemirror_mode": {
    "name": "ipython",
    "version": 3
   },
   "file_extension": ".py",
   "mimetype": "text/x-python",
   "name": "python",
   "nbconvert_exporter": "python",
   "pygments_lexer": "ipython3",
   "version": "3.9.7"
  }
 },
 "nbformat": 4,
 "nbformat_minor": 5
}
