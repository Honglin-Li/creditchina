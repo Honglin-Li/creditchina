{
 "cells": [
  {
   "cell_type": "code",
   "execution_count": null,
   "id": "31dc8066",
   "metadata": {},
   "outputs": [],
   "source": [
    "\"\"\"\n",
    "data_explore_on_mothers\n",
    "\n",
    "The notebook is used to explore the extracted original data before processing it.\n",
    "\"\"\""
   ]
  },
  {
   "cell_type": "code",
   "execution_count": 288,
   "id": "1c16650d",
   "metadata": {},
   "outputs": [],
   "source": [
    "import pandas as pd\n",
    "import numpy as np\n",
    "import os\n",
    "import seaborn as sns\n",
    "import matplotlib.pyplot as plt\n",
    "%matplotlib inline"
   ]
  },
  {
   "cell_type": "code",
   "execution_count": 287,
   "id": "ff08eeac",
   "metadata": {},
   "outputs": [],
   "source": [
    "bath_path = r'X:/SCS/04_Results/data_explore/'"
   ]
  },
  {
   "cell_type": "markdown",
   "id": "b7f5e7fc",
   "metadata": {},
   "source": [
    "# 1. Meta data\n",
    "- region-USCI (Some codes do not match the 2020 area codes）\n",
    "- delete useless columns"
   ]
  },
  {
   "cell_type": "code",
   "execution_count": 91,
   "id": "7e6c2592",
   "metadata": {},
   "outputs": [],
   "source": [
    "# load region code\n",
    "region_path = r'X:/SCS/04_Results/data/regions.xlsx'\n",
    "df_region = pd.read_excel(region_path, dtype={'code': str})"
   ]
  },
  {
   "cell_type": "code",
   "execution_count": 184,
   "id": "f23da739",
   "metadata": {},
   "outputs": [],
   "source": [
    "# load data from original dataset\n",
    "m_path = r'X:/SCS/04_Results/data/mothers_original.xlsx'\n",
    "\n",
    "df_meta_m = pd.read_excel(m_path, sheet_name='metadata')"
   ]
  },
  {
   "cell_type": "code",
   "execution_count": 98,
   "id": "eac564af",
   "metadata": {},
   "outputs": [],
   "source": [
    "# get level province region info from UCSI\n",
    "# TODO : check县\n",
    "def extract_usci(row):\n",
    "    code6 = row['统一社会信用代码 Unified Social Credit Identifier, USCI'][2:8]\n",
    "    level = region = province = ''\n",
    "    \n",
    "    try:\n",
    "        # code match\n",
    "        s = df_region[df_region['code'] == code6]\n",
    "        region = s.iloc[0, 2]\n",
    "        level = s.iloc[0, 1]\n",
    "        province = df_region[df_region['code'] == (code6[:2] + '0000')].iloc[0, 2]\n",
    "        return level, region, province\n",
    "    except:\n",
    "        # code unmatch， no region\n",
    "        address = row['住所 Address']\n",
    "        \n",
    "        # set level by counting 0\n",
    "        if code6[2:] == '0000':\n",
    "            # province level\n",
    "            level = '省'\n",
    "        elif code6[4:] == '00':\n",
    "            # city level\n",
    "            level = '省市'\n",
    "        else:\n",
    "            # region level\n",
    "            level = '省市区'\n",
    "            \n",
    "        # set province\n",
    "        if level == '省':\n",
    "            # definately no match， try to extract from address\n",
    "            pos = address.find('省')+1\n",
    "            if not pos:\n",
    "                pos = address.find('市')+1\n",
    "            province = region = address[0: pos]\n",
    "            \n",
    "        else:\n",
    "            # try to match province\n",
    "            province = df_region[df_region['code'] == (code6[:2] + '0000')].iloc[0, 2]\n",
    "            # set pos, then extract region\n",
    "            if level == '省市':\n",
    "                pos = address.find('市') + 1\n",
    "            else:\n",
    "                pos = address.find('区') + 1\n",
    "                if not pos:\n",
    "                    pos = address.find('市') + 1\n",
    "                if not pos:\n",
    "                    pos = address.find('县') + 1\n",
    "            region = address[0: pos]\n",
    "        #print(level, region, province, address)\n",
    "        return level, region, province\n",
    "        \n"
   ]
  },
  {
   "cell_type": "code",
   "execution_count": 185,
   "id": "636f869e",
   "metadata": {},
   "outputs": [
    {
     "data": {
      "text/html": [
       "<div>\n",
       "<style scoped>\n",
       "    .dataframe tbody tr th:only-of-type {\n",
       "        vertical-align: middle;\n",
       "    }\n",
       "\n",
       "    .dataframe tbody tr th {\n",
       "        vertical-align: top;\n",
       "    }\n",
       "\n",
       "    .dataframe thead th {\n",
       "        text-align: right;\n",
       "    }\n",
       "</style>\n",
       "<table border=\"1\" class=\"dataframe\">\n",
       "  <thead>\n",
       "    <tr style=\"text-align: right;\">\n",
       "      <th></th>\n",
       "      <th>统一社会信用代码 Unified Social Credit Identifier, USCI</th>\n",
       "      <th>机构名称 Institution name</th>\n",
       "      <th>企业类型 Corporate type</th>\n",
       "      <th>住所 Address</th>\n",
       "      <th>法定代表/负责人/执行事务合伙人 Legal representative/Person in charge/Executive business partner</th>\n",
       "      <th>成立日期 Date of Foundation</th>\n",
       "      <th>行政管理 Administrative management</th>\n",
       "      <th>严重失信主体名单 Severe untrustworthy entity list</th>\n",
       "      <th>信用承诺 Credit commitment</th>\n",
       "      <th>诚实守信 Honesty and trustworthy</th>\n",
       "      <th>经营异常 Abnormal operation</th>\n",
       "      <th>black</th>\n",
       "      <th>green</th>\n",
       "      <th>red</th>\n",
       "      <th>event_count</th>\n",
       "      <th>n_pages</th>\n",
       "      <th>M_D</th>\n",
       "      <th>level</th>\n",
       "      <th>region</th>\n",
       "      <th>province</th>\n",
       "    </tr>\n",
       "  </thead>\n",
       "  <tbody>\n",
       "    <tr>\n",
       "      <th>0</th>\n",
       "      <td>91441300195971850Y</td>\n",
       "      <td>TCL科技集团股份有限公司</td>\n",
       "      <td>其他股份有限公司(上市)</td>\n",
       "      <td>广东省惠州仲恺高新区惠风三路17号TCL科技大厦</td>\n",
       "      <td>李东生</td>\n",
       "      <td>1982-03-11</td>\n",
       "      <td>8</td>\n",
       "      <td>0</td>\n",
       "      <td>0</td>\n",
       "      <td>5</td>\n",
       "      <td>0</td>\n",
       "      <td>0</td>\n",
       "      <td>1</td>\n",
       "      <td>1</td>\n",
       "      <td>13</td>\n",
       "      <td>9</td>\n",
       "      <td>M</td>\n",
       "      <td>省市</td>\n",
       "      <td>广东省惠州市</td>\n",
       "      <td>广东省</td>\n",
       "    </tr>\n",
       "    <tr>\n",
       "      <th>1</th>\n",
       "      <td>914400007361542488</td>\n",
       "      <td>一品红药业股份有限公司</td>\n",
       "      <td>其他股份有限公司(上市)</td>\n",
       "      <td>广州市黄埔区广州国际生物岛寰宇一路27号云润大厦17层</td>\n",
       "      <td>李捍雄</td>\n",
       "      <td>2002-02-04</td>\n",
       "      <td>1</td>\n",
       "      <td>0</td>\n",
       "      <td>0</td>\n",
       "      <td>0</td>\n",
       "      <td>0</td>\n",
       "      <td>0</td>\n",
       "      <td>1</td>\n",
       "      <td>0</td>\n",
       "      <td>1</td>\n",
       "      <td>5</td>\n",
       "      <td>M</td>\n",
       "      <td>省</td>\n",
       "      <td>广东省</td>\n",
       "      <td>广东省</td>\n",
       "    </tr>\n",
       "    <tr>\n",
       "      <th>2</th>\n",
       "      <td>91440300192181490G</td>\n",
       "      <td>万科企业股份有限公司</td>\n",
       "      <td>股份有限公司(上市)</td>\n",
       "      <td>深圳市盐田区大梅沙环梅路33号万科中心</td>\n",
       "      <td>郁亮</td>\n",
       "      <td>1984-05-30</td>\n",
       "      <td>30</td>\n",
       "      <td>0</td>\n",
       "      <td>4</td>\n",
       "      <td>4</td>\n",
       "      <td>0</td>\n",
       "      <td>0</td>\n",
       "      <td>1</td>\n",
       "      <td>1</td>\n",
       "      <td>38</td>\n",
       "      <td>24</td>\n",
       "      <td>M</td>\n",
       "      <td>省市</td>\n",
       "      <td>广东省深圳市</td>\n",
       "      <td>广东省</td>\n",
       "    </tr>\n",
       "    <tr>\n",
       "      <th>3</th>\n",
       "      <td>913100006073563962</td>\n",
       "      <td>上海大名城企业股份有限公司</td>\n",
       "      <td>股份有限公司(中外合资、上市)</td>\n",
       "      <td>上海市闵行区红松东路1116号1幢5楼A区</td>\n",
       "      <td>俞锦</td>\n",
       "      <td>1996-07-18</td>\n",
       "      <td>2</td>\n",
       "      <td>0</td>\n",
       "      <td>0</td>\n",
       "      <td>2</td>\n",
       "      <td>0</td>\n",
       "      <td>0</td>\n",
       "      <td>1</td>\n",
       "      <td>1</td>\n",
       "      <td>4</td>\n",
       "      <td>5</td>\n",
       "      <td>M</td>\n",
       "      <td>省</td>\n",
       "      <td>上海市</td>\n",
       "      <td>上海市</td>\n",
       "    </tr>\n",
       "    <tr>\n",
       "      <th>4</th>\n",
       "      <td>914201007819530811</td>\n",
       "      <td>华灿光电股份有限公司</td>\n",
       "      <td>股份有限公司(台港澳与境内合资_x000D_、上市)</td>\n",
       "      <td>武汉市东湖开发区滨湖路8号</td>\n",
       "      <td>郭瑾</td>\n",
       "      <td>2005-11-08</td>\n",
       "      <td>7</td>\n",
       "      <td>0</td>\n",
       "      <td>1</td>\n",
       "      <td>3</td>\n",
       "      <td>0</td>\n",
       "      <td>0</td>\n",
       "      <td>1</td>\n",
       "      <td>1</td>\n",
       "      <td>11</td>\n",
       "      <td>9</td>\n",
       "      <td>M</td>\n",
       "      <td>省市</td>\n",
       "      <td>湖北省武汉市</td>\n",
       "      <td>湖北省</td>\n",
       "    </tr>\n",
       "  </tbody>\n",
       "</table>\n",
       "</div>"
      ],
      "text/plain": [
       "  统一社会信用代码 Unified Social Credit Identifier, USCI 机构名称 Institution name  \\\n",
       "0                              91441300195971850Y         TCL科技集团股份有限公司   \n",
       "1                              914400007361542488           一品红药业股份有限公司   \n",
       "2                              91440300192181490G            万科企业股份有限公司   \n",
       "3                              913100006073563962         上海大名城企业股份有限公司   \n",
       "4                              914201007819530811            华灿光电股份有限公司   \n",
       "\n",
       "          企业类型 Corporate type                   住所 Address  \\\n",
       "0                其他股份有限公司(上市)     广东省惠州仲恺高新区惠风三路17号TCL科技大厦   \n",
       "1                其他股份有限公司(上市)  广州市黄埔区广州国际生物岛寰宇一路27号云润大厦17层   \n",
       "2                  股份有限公司(上市)          深圳市盐田区大梅沙环梅路33号万科中心   \n",
       "3             股份有限公司(中外合资、上市)        上海市闵行区红松东路1116号1幢5楼A区   \n",
       "4  股份有限公司(台港澳与境内合资_x000D_、上市)                武汉市东湖开发区滨湖路8号   \n",
       "\n",
       "  法定代表/负责人/执行事务合伙人 Legal representative/Person in charge/Executive business partner  \\\n",
       "0                                                李东生                                  \n",
       "1                                                李捍雄                                  \n",
       "2                                                 郁亮                                  \n",
       "3                                                 俞锦                                  \n",
       "4                                                 郭瑾                                  \n",
       "\n",
       "  成立日期 Date of Foundation  行政管理 Administrative management  \\\n",
       "0              1982-03-11                               8   \n",
       "1              2002-02-04                               1   \n",
       "2              1984-05-30                              30   \n",
       "3              1996-07-18                               2   \n",
       "4              2005-11-08                               7   \n",
       "\n",
       "   严重失信主体名单 Severe untrustworthy entity list  信用承诺 Credit commitment  \\\n",
       "0                                          0                       0   \n",
       "1                                          0                       0   \n",
       "2                                          0                       4   \n",
       "3                                          0                       0   \n",
       "4                                          0                       1   \n",
       "\n",
       "   诚实守信 Honesty and trustworthy  经营异常 Abnormal operation  black  green  red  \\\n",
       "0                             5                        0      0      1    1   \n",
       "1                             0                        0      0      1    0   \n",
       "2                             4                        0      0      1    1   \n",
       "3                             2                        0      0      1    1   \n",
       "4                             3                        0      0      1    1   \n",
       "\n",
       "   event_count  n_pages M_D level  region province  \n",
       "0           13        9   M    省市  广东省惠州市      广东省  \n",
       "1            1        5   M     省     广东省      广东省  \n",
       "2           38       24   M    省市  广东省深圳市      广东省  \n",
       "3            4        5   M     省     上海市      上海市  \n",
       "4           11        9   M    省市  湖北省武汉市      湖北省  "
      ]
     },
     "execution_count": 185,
     "metadata": {},
     "output_type": "execute_result"
    }
   ],
   "source": [
    "# add region info\n",
    "df_meta_m[['level', 'region', 'province']] = df_meta_m.apply(extract_usci, axis=1, result_type='expand')\n",
    "\n",
    "# delete 0 number columns \n",
    "df_meta_m.drop(['司法判决 Judicial decision', '信用评价 Credit assessment', '其他信息 Other information'], axis=1, inplace=True)\n",
    "df_meta_m.head()"
   ]
  },
  {
   "cell_type": "markdown",
   "id": "26015c2e",
   "metadata": {},
   "source": [
    "# 2. Split events to sub-events"
   ]
  },
  {
   "cell_type": "code",
   "execution_count": 107,
   "id": "b8c06670",
   "metadata": {},
   "outputs": [],
   "source": [
    "# load original events\n",
    "df_event1_m = pd.read_excel(m_path, sheet_name='event1')\n",
    "df_event2_m = pd.read_excel(m_path, sheet_name='event2')\n",
    "df_event3_m = pd.read_excel(m_path, sheet_name='event3')\n",
    "df_event4_m = pd.read_excel(m_path, sheet_name='event4')\n",
    "df_event5_m = pd.read_excel(m_path, sheet_name='event5')\n",
    "#df_event6_m = pd.read_excel(m_path, sheet_name='event6')"
   ]
  },
  {
   "cell_type": "code",
   "execution_count": 124,
   "id": "0dcb3db7",
   "metadata": {},
   "outputs": [],
   "source": [
    "# the function is for checking if the sub-events are splited correctly\n",
    "def check_equal(df_event, bool_list):\n",
    "    sub_sum = sum([l.sum() for l in bool_list])\n",
    "    total = df_event.shape[0]\n",
    "    print(f'the number of sub events:{sub_sum}')\n",
    "    print(f'total number: {total}')\n",
    "    \n",
    "    equal = total - sub_sum\n",
    "    if equal == 0:\n",
    "        print('Correct')\n",
    "    else:\n",
    "        print('Incorrect, please check the numbers of sub-events')\n",
    "        for l in bool_list:\n",
    "            print(l.sum())"
   ]
  },
  {
   "cell_type": "markdown",
   "id": "902440c9",
   "metadata": {},
   "source": [
    "## 2.1 split event1"
   ]
  },
  {
   "cell_type": "code",
   "execution_count": 116,
   "id": "fbbf14ba",
   "metadata": {},
   "outputs": [],
   "source": [
    "# filter condition to get sub-events\n",
    "bool_event_permit_old = df_event1_m['审核类型 Audit Type'].notna()\n",
    "bool_event_permit_new = df_event1_m['许可类别 Type of Permission'].notna()\n",
    "bool_event_penalty = df_event1_m['处罚机关 Penalty Enforcement Authority'].notna()"
   ]
  },
  {
   "cell_type": "code",
   "execution_count": 125,
   "id": "083e5e87",
   "metadata": {},
   "outputs": [
    {
     "name": "stdout",
     "output_type": "stream",
     "text": [
      "the number of sub events:76882\n",
      "total number: 76882\n",
      "Correct\n"
     ]
    }
   ],
   "source": [
    "# check the total amount\n",
    "check_equal(df_event1_m, [bool_event_permit_old, bool_event_permit_new, bool_event_penalty])"
   ]
  },
  {
   "cell_type": "code",
   "execution_count": 154,
   "id": "79e97e88",
   "metadata": {},
   "outputs": [],
   "source": [
    "# get the df for all the sub-events\n",
    "df_event_permit_old = df_event1_m[bool_event_permit_old].loc[:, ['统一社会信用代码 Unified Social Credit Identifier', \n",
    "                                   'company_name',\n",
    "                                   '行政许可决定文书号 Administrative Permission Decision Document Code', \n",
    "                                   '许可决定日期 Permission decision date', \n",
    "                                   '许可内容 Permission Content', \n",
    "                                   '许可机关 Permission Authority', \n",
    "                                   '许可截止日期 Permission deadline date', \n",
    "                                   '审核类型 Audit Type']].reset_index(drop=True)\n",
    "\n",
    "df_event_permit_new = df_event1_m[bool_event_permit_new].iloc[:, [0, 18, 2, 3, 4, 5,6 ,7 ,8 ,9 , 10, 11, 12, 13, 14]].reset_index(drop=True)\n",
    "\n",
    "df_event_penalty = df_event1_m[bool_event_penalty].iloc[:, [0, 18, 19, 20, 21, 22, 23 ,24 ,25 ,26 , 27, 28, 29, 30, 31, 14]].reset_index(drop=True)"
   ]
  },
  {
   "cell_type": "markdown",
   "id": "5852b260",
   "metadata": {},
   "source": [
    "## 2.2 Split event2"
   ]
  },
  {
   "cell_type": "code",
   "execution_count": 142,
   "id": "7c9366af",
   "metadata": {},
   "outputs": [
    {
     "name": "stdout",
     "output_type": "stream",
     "text": [
      "the number of sub events:15978\n",
      "total number: 15978\n",
      "Correct\n"
     ]
    }
   ],
   "source": [
    "bool_event_custom = df_event2_m['海关注册编码 Customs Record Number'].notna()\n",
    "\n",
    "bool_event_a_taxpayer = df_event2_m['纳税人名称 Taxpayer name'].notna()\n",
    "\n",
    "bool_event_highway = df_event2_m['企业资质 Firm Qualification'].notna()\n",
    "\n",
    "check_equal(df_event2_m, [bool_event_custom, bool_event_a_taxpayer, bool_event_highway])"
   ]
  },
  {
   "cell_type": "code",
   "execution_count": 155,
   "id": "7c59e4c2",
   "metadata": {},
   "outputs": [],
   "source": [
    "df_event_custom = df_event2_m[bool_event_custom].iloc[:, [0, 15, 2, 3, 4, 5,6 ,7 ,8 ,9]].reset_index(drop=True)\n",
    "\n",
    "df_event_a_taxpayer = df_event2_m[bool_event_a_taxpayer].iloc[:, [0, 15, 12, 9]].reset_index(drop=True) # taxpayer and id repeat\n",
    "\n",
    "df_event_highway = df_event2_m[bool_event_highway].iloc[:, [0, 15, 3, 16, 13, 17, 9]].reset_index(drop=True)\n"
   ]
  },
  {
   "cell_type": "code",
   "execution_count": 211,
   "id": "bb5c0f54",
   "metadata": {},
   "outputs": [],
   "source": [
    "# add lastest evaluation year of A taxpayer\n",
    "df_year = df_event_a_taxpayer.groupby('统一社会信用代码 Unified Social Credit Identifier').max('评价年度 Evaluation year').reset_index().rename(columns={\n",
    "        '统一社会信用代码 Unified Social Credit Identifier': '统一社会信用代码 Unified Social Credit Identifier, USCI',\n",
    "        '评价年度 Evaluation year': 'Latest evaluation year for A taxpayer'})\n",
    "df_meta_m = df_meta_m.merge(df_year, how='left')"
   ]
  },
  {
   "cell_type": "markdown",
   "id": "3d963634",
   "metadata": {},
   "source": [
    "## 2.3 Split event5"
   ]
  },
  {
   "cell_type": "code",
   "execution_count": 150,
   "id": "fc99aae5",
   "metadata": {},
   "outputs": [
    {
     "name": "stdout",
     "output_type": "stream",
     "text": [
      "the number of sub events:15984\n",
      "total number: 15984\n",
      "Correct\n"
     ]
    }
   ],
   "source": [
    "bool_event_implementation = df_event5_m['承诺类型 Commitment type'].notna()\n",
    "\n",
    "bool_event_public = df_event5_m['经办人 Manager'].notna()\n",
    "\n",
    "check_equal(df_event5_m, [bool_event_implementation, bool_event_public])"
   ]
  },
  {
   "cell_type": "code",
   "execution_count": 157,
   "id": "66170e65",
   "metadata": {},
   "outputs": [],
   "source": [
    "df_event_implementation = df_event5_m[bool_event_implementation].iloc[:, [0, 8, 2, 3, 4, 5, 6]].reset_index(drop=True)\n",
    "\n",
    "df_event_public = df_event5_m[bool_event_public].iloc[:, [0, 8, 10, 11, 12]].reset_index(drop=True)"
   ]
  },
  {
   "cell_type": "markdown",
   "id": "e53358b7",
   "metadata": {},
   "source": [
    "## 2.4 event34 clean"
   ]
  },
  {
   "cell_type": "code",
   "execution_count": 204,
   "id": "db694af8",
   "metadata": {},
   "outputs": [],
   "source": [
    "# for event3 remove '失信被执行人姓名/名称 Name of The Dishonest Person Subject to Execution',\n",
    "#'身份证号码/组织机构代码 ID Number/Organizational ID' 'event_number', 'file_path'\n",
    "df_event3_m = df_event3_m.iloc[:, [0, 18, 4, 5,6,7,8,9,10,11,12,13,14,15,16]]\n",
    "\n",
    "# event4 firm name remove\n",
    "df_event4_m = df_event4_m.iloc[:, [0, 11, 3, 4, 5,6,7,8,9]]"
   ]
  },
  {
   "cell_type": "markdown",
   "id": "48b8be45",
   "metadata": {},
   "source": [
    "## 2.4 Stat on events"
   ]
  },
  {
   "cell_type": "code",
   "execution_count": 181,
   "id": "b5a5d36a",
   "metadata": {},
   "outputs": [],
   "source": [
    "def add_stat(df_meta, df_event, column_name):\n",
    "    df_count = df_event.groupby('统一社会信用代码 Unified Social Credit Identifier').count().reset_index()[[\n",
    "        '统一社会信用代码 Unified Social Credit Identifier', 'company_name']].rename(columns={\n",
    "        '统一社会信用代码 Unified Social Credit Identifier': '统一社会信用代码 Unified Social Credit Identifier, USCI',\n",
    "        'company_name': column_name})\n",
    "    return df_count\n",
    "    #df_meta = df_meta.merge(df_count, how='left', left_on='统一社会信用代码 Unified Social Credit Identifier, USCI', right_on='USCI')"
   ]
  },
  {
   "cell_type": "code",
   "execution_count": 186,
   "id": "5f6774c6",
   "metadata": {},
   "outputs": [],
   "source": [
    "# event 1\n",
    "df_count = add_stat(df_meta_m, df_event_permit_old, '行政许可(旧标准) Administrative permission old version')\n",
    "df_meta_m = df_meta_m.merge(df_count, how='left', on='统一社会信用代码 Unified Social Credit Identifier, USCI')\n",
    "\n",
    "# new version\n",
    "df_count = add_stat(df_meta_m, df_event_permit_new, '行政许可(新标准) Administrative permission new version')\n",
    "df_meta_m = df_meta_m.merge(df_count, how='left', on='统一社会信用代码 Unified Social Credit Identifier, USCI')\n",
    "\n",
    "# penalty\n",
    "df_count = add_stat(df_meta_m, df_event_penalty, '行政处罚 Administrative penalty')\n",
    "df_meta_m = df_meta_m.merge(df_count, how='left', on='统一社会信用代码 Unified Social Credit Identifier, USCI')\n",
    "\n",
    "# event2\n",
    "df_count = add_stat(df_meta_m, df_event_custom, '海关高级认证企业 Customs advanced accreditation enterprise')\n",
    "df_meta_m = df_meta_m.merge(df_count, how='left', on='统一社会信用代码 Unified Social Credit Identifier, USCI')\n",
    "\n",
    "df_count = add_stat(df_meta_m, df_event_a_taxpayer, '纳税信用A级纳税人 A-level taxpayer information')\n",
    "df_meta_m = df_meta_m.merge(df_count, how='left', on='统一社会信用代码 Unified Social Credit Identifier, USCI')\n",
    "\n",
    "df_count = add_stat(df_meta_m, df_event_highway, '公路工程建设领域守信典型企业 Typical trustworthy enterprises in the field of highway engineering construction')\n",
    "df_meta_m = df_meta_m.merge(df_count, how='left', on='统一社会信用代码 Unified Social Credit Identifier, USCI')\n",
    "\n",
    "# event5\n",
    "df_count = add_stat(df_meta_m, df_event_implementation, '企业信用承诺及其履约践诺情况信息 Corporate credit commitment and implementation information')\n",
    "df_meta_m = df_meta_m.merge(df_count, how='left', on='统一社会信用代码 Unified Social Credit Identifier, USCI')\n",
    "\n",
    "df_count = add_stat(df_meta_m, df_event_public, '企业信用承诺公示 Enterprise credit commitment public notice')\n",
    "df_meta_m = df_meta_m.merge(df_count, how='left', on='统一社会信用代码 Unified Social Credit Identifier, USCI')"
   ]
  },
  {
   "cell_type": "code",
   "execution_count": 192,
   "id": "c755e75a",
   "metadata": {},
   "outputs": [],
   "source": [
    "# merge the number of permit old and new\n",
    "df_meta_m['行政许可 Administrative permission'] = df_meta_m['行政许可(旧标准) Administrative permission old version'] + df_meta_m['行政许可(新标准) Administrative permission new version']"
   ]
  },
  {
   "cell_type": "code",
   "execution_count": 214,
   "id": "4ca91025",
   "metadata": {
    "scrolled": true
   },
   "outputs": [],
   "source": [
    "# change the column order in metadata\n",
    "# TODO: when add Daughter, the list need to change\n",
    "df_meta_m_new = df_meta_m[['统一社会信用代码 Unified Social Credit Identifier, USCI', \n",
    "           '机构名称 Institution name',\n",
    "          'level',\n",
    "          'region',\n",
    "          'province',\n",
    "          'M_D',\n",
    "          '企业类型 Corporate type',\n",
    "          '住所 Address',\n",
    "          '法定代表/负责人/执行事务合伙人 Legal representative/Person in charge/Executive business partner',\n",
    "          '成立日期 Date of Foundation',\n",
    "          'green',\n",
    "          'red',\n",
    "          'black',\n",
    "          'event_count',\n",
    "          '行政管理 Administrative management',\n",
    "          '行政许可 Administrative permission',\n",
    "          '行政处罚 Administrative penalty',\n",
    "          '诚实守信 Honesty and trustworthy',\n",
    "          '海关高级认证企业 Customs advanced accreditation enterprise',\n",
    "          '纳税信用A级纳税人 A-level taxpayer information',\n",
    "          'Latest evaluation year for A taxpayer',\n",
    "          '公路工程建设领域守信典型企业 Typical trustworthy enterprises in the field of highway engineering construction',\n",
    "          '严重失信主体名单 Severe untrustworthy entity list',\n",
    "          '经营异常 Abnormal operation',\n",
    "          '信用承诺 Credit commitment',\n",
    "          '企业信用承诺及其履约践诺情况信息 Corporate credit commitment and implementation information',\n",
    "          '企业信用承诺公示 Enterprise credit commitment public notice']]"
   ]
  },
  {
   "cell_type": "code",
   "execution_count": 215,
   "id": "a8a91292",
   "metadata": {},
   "outputs": [
    {
     "name": "stderr",
     "output_type": "stream",
     "text": [
      "C:\\Users\\f-li\\Miniconda3\\envs\\parsingpdf\\lib\\site-packages\\xlsxwriter\\workbook.py:339: UserWarning: Calling close() on already closed file.\n",
      "  warn(\"Calling close() on already closed file.\")\n"
     ]
    }
   ],
   "source": [
    "# save to local the sub-events version\n",
    "file = r'X:/SCS/04_Results/data_explore/mothers_sub_events.xlsx'\n",
    "\n",
    "writer = pd.ExcelWriter(file, engine='xlsxwriter')\n",
    "\n",
    "df_meta_m_new.to_excel(excel_writer=writer, sheet_name='metadata', index=False)\n",
    "df_event_permit_old.to_excel(excel_writer=writer, sheet_name='1.1permit_old', index=False)\n",
    "df_event_permit_new.to_excel(excel_writer=writer, sheet_name='1.2permit_new', index=False)\n",
    "df_event_penalty.to_excel(excel_writer=writer, sheet_name='1.2penalty', index=False)\n",
    "df_event_custom.to_excel(excel_writer=writer, sheet_name='2.1custom', index=False)\n",
    "df_event_a_taxpayer.to_excel(excel_writer=writer, sheet_name='2.2a_taxpayer', index=False)\n",
    "df_event_highway.to_excel(excel_writer=writer, sheet_name='2.3highway', index=False)\n",
    "df_event3_m.to_excel(excel_writer=writer, sheet_name='3.untrustworthy', index=False)\n",
    "df_event4_m.to_excel(excel_writer=writer, sheet_name='4.operational_abnormality', index=False)\n",
    "df_event_implementation.to_excel(excel_writer=writer, sheet_name='5.1credit_implementation', index=False)\n",
    "df_event_public.to_excel(excel_writer=writer, sheet_name='5.2credit_public_notice', index=False)\n",
    "\n",
    "writer.save()\n",
    "writer.close()"
   ]
  },
  {
   "cell_type": "markdown",
   "id": "8895c7b9",
   "metadata": {},
   "source": [
    "# 3. Gini"
   ]
  },
  {
   "cell_type": "code",
   "execution_count": 246,
   "id": "cfe79d98",
   "metadata": {},
   "outputs": [],
   "source": [
    "def calcu_gini(y, total):\n",
    "    p1 = y / total\n",
    "    p0 = 1 - p1\n",
    "    gini = round(1 - p0*p0 - p1 * p1, 3)\n",
    "    return p1, p0, gini\n",
    "\n",
    "\n",
    "def gini_stat(X, y, color):\n",
    "    gini_dict = {}\n",
    "    \n",
    "    for c_name, s_value in X.iteritems():\n",
    "\n",
    "        s_value.fillna(0, inplace=True)\n",
    "\n",
    "        # binary case\n",
    "        bool_1 = (s_value > 0) # only consider rows with value\n",
    "        total_1 = bool_1.sum() # total count\n",
    "\n",
    "        y_1 = y[bool_1].sum() # target count: red/black \n",
    "\n",
    "        p1, p0, gini = calcu_gini(y_1, total_1)\n",
    "        gini_dict[c_name] = [p1, p0, gini]\n",
    "\n",
    "        # consider number as weight\n",
    "        total_1 = s_value[bool_1].sum()\n",
    "\n",
    "        y_1 = s_value[bool_1 & (y == 1)].sum()\n",
    "\n",
    "        p1, p0, gini = calcu_gini(y_1, total_1)\n",
    "        gini_dict[c_name].extend([p1, p0, gini])\n",
    "\n",
    "    df_gini = pd.DataFrame(gini_dict)   \n",
    "    df_gini['row_name'] = [f'p({color}=1)', f'p({color}=0)', 'gini(binary)', f'p({color}=1)', f'p({color}=0)', 'gini(weight)']\n",
    "    return df_gini"
   ]
  },
  {
   "cell_type": "code",
   "execution_count": 247,
   "id": "21ab4083",
   "metadata": {},
   "outputs": [
    {
     "name": "stderr",
     "output_type": "stream",
     "text": [
      "C:\\Users\\f-li\\AppData\\Local\\Temp/ipykernel_892/856368059.py:13: SettingWithCopyWarning: \n",
      "A value is trying to be set on a copy of a slice from a DataFrame\n",
      "\n",
      "See the caveats in the documentation: https://pandas.pydata.org/pandas-docs/stable/user_guide/indexing.html#returning-a-view-versus-a-copy\n",
      "  s_value.fillna(0, inplace=True)\n",
      "C:\\Users\\f-li\\AppData\\Local\\Temp/ipykernel_892/856368059.py:13: SettingWithCopyWarning: \n",
      "A value is trying to be set on a copy of a slice from a DataFrame\n",
      "\n",
      "See the caveats in the documentation: https://pandas.pydata.org/pandas-docs/stable/user_guide/indexing.html#returning-a-view-versus-a-copy\n",
      "  s_value.fillna(0, inplace=True)\n"
     ]
    }
   ],
   "source": [
    "X = df_meta_m_new[[\n",
    "    '行政许可 Administrative permission',\n",
    "    '行政处罚 Administrative penalty',\n",
    "    '海关高级认证企业 Customs advanced accreditation enterprise',\n",
    "    '纳税信用A级纳税人 A-level taxpayer information',\n",
    "    '公路工程建设领域守信典型企业 Typical trustworthy enterprises in the field of highway engineering construction',\n",
    "    '严重失信主体名单 Severe untrustworthy entity list',\n",
    "    '经营异常 Abnormal operation',\n",
    "    '企业信用承诺及其履约践诺情况信息 Corporate credit commitment and implementation information',\n",
    "    '企业信用承诺公示 Enterprise credit commitment public notice'\n",
    "]]\n",
    "\n",
    "y = df_meta_m_new.red\n",
    "df_gini_red = gini_stat(X, y, 'red')\n",
    "\n",
    "y = df_meta_m_new.black\n",
    "df_gini_black = gini_stat(X, y, 'black')\n",
    "\n",
    "df_gini = pd.concat([df_gini_red, df_gini_black])\n",
    "df_gini.set_index('row_name', inplace=True)"
   ]
  },
  {
   "cell_type": "code",
   "execution_count": 250,
   "id": "c9cb9681",
   "metadata": {},
   "outputs": [
    {
     "data": {
      "text/html": [
       "<div>\n",
       "<style scoped>\n",
       "    .dataframe tbody tr th:only-of-type {\n",
       "        vertical-align: middle;\n",
       "    }\n",
       "\n",
       "    .dataframe tbody tr th {\n",
       "        vertical-align: top;\n",
       "    }\n",
       "\n",
       "    .dataframe thead th {\n",
       "        text-align: right;\n",
       "    }\n",
       "</style>\n",
       "<table border=\"1\" class=\"dataframe\">\n",
       "  <thead>\n",
       "    <tr style=\"text-align: right;\">\n",
       "      <th></th>\n",
       "      <th>行政许可 Administrative permission</th>\n",
       "      <th>行政处罚 Administrative penalty</th>\n",
       "      <th>海关高级认证企业 Customs advanced accreditation enterprise</th>\n",
       "      <th>纳税信用A级纳税人 A-level taxpayer information</th>\n",
       "      <th>公路工程建设领域守信典型企业 Typical trustworthy enterprises in the field of highway engineering construction</th>\n",
       "      <th>严重失信主体名单 Severe untrustworthy entity list</th>\n",
       "      <th>经营异常 Abnormal operation</th>\n",
       "      <th>企业信用承诺及其履约践诺情况信息 Corporate credit commitment and implementation information</th>\n",
       "      <th>企业信用承诺公示 Enterprise credit commitment public notice</th>\n",
       "    </tr>\n",
       "    <tr>\n",
       "      <th>row_name</th>\n",
       "      <th></th>\n",
       "      <th></th>\n",
       "      <th></th>\n",
       "      <th></th>\n",
       "      <th></th>\n",
       "      <th></th>\n",
       "      <th></th>\n",
       "      <th></th>\n",
       "      <th></th>\n",
       "    </tr>\n",
       "  </thead>\n",
       "  <tbody>\n",
       "    <tr>\n",
       "      <th>p(red=1)</th>\n",
       "      <td>0.923856</td>\n",
       "      <td>0.888298</td>\n",
       "      <td>0.997275</td>\n",
       "      <td>0.981340</td>\n",
       "      <td>1.0</td>\n",
       "      <td>0.0</td>\n",
       "      <td>0.217391</td>\n",
       "      <td>0.912240</td>\n",
       "      <td>0.988372</td>\n",
       "    </tr>\n",
       "    <tr>\n",
       "      <th>p(red=0)</th>\n",
       "      <td>0.076144</td>\n",
       "      <td>0.111702</td>\n",
       "      <td>0.002725</td>\n",
       "      <td>0.018660</td>\n",
       "      <td>0.0</td>\n",
       "      <td>1.0</td>\n",
       "      <td>0.782609</td>\n",
       "      <td>0.087760</td>\n",
       "      <td>0.011628</td>\n",
       "    </tr>\n",
       "    <tr>\n",
       "      <th>gini(binary)</th>\n",
       "      <td>0.141000</td>\n",
       "      <td>0.198000</td>\n",
       "      <td>0.005000</td>\n",
       "      <td>0.037000</td>\n",
       "      <td>0.0</td>\n",
       "      <td>0.0</td>\n",
       "      <td>0.340000</td>\n",
       "      <td>0.160000</td>\n",
       "      <td>0.023000</td>\n",
       "    </tr>\n",
       "    <tr>\n",
       "      <th>p(red=1)</th>\n",
       "      <td>0.957124</td>\n",
       "      <td>0.920330</td>\n",
       "      <td>0.997312</td>\n",
       "      <td>0.986852</td>\n",
       "      <td>1.0</td>\n",
       "      <td>0.0</td>\n",
       "      <td>0.156250</td>\n",
       "      <td>0.954857</td>\n",
       "      <td>0.990566</td>\n",
       "    </tr>\n",
       "    <tr>\n",
       "      <th>p(red=0)</th>\n",
       "      <td>0.042876</td>\n",
       "      <td>0.079670</td>\n",
       "      <td>0.002688</td>\n",
       "      <td>0.013148</td>\n",
       "      <td>0.0</td>\n",
       "      <td>1.0</td>\n",
       "      <td>0.843750</td>\n",
       "      <td>0.045143</td>\n",
       "      <td>0.009434</td>\n",
       "    </tr>\n",
       "    <tr>\n",
       "      <th>gini(weight)</th>\n",
       "      <td>0.082000</td>\n",
       "      <td>0.147000</td>\n",
       "      <td>0.005000</td>\n",
       "      <td>0.026000</td>\n",
       "      <td>0.0</td>\n",
       "      <td>0.0</td>\n",
       "      <td>0.264000</td>\n",
       "      <td>0.086000</td>\n",
       "      <td>0.019000</td>\n",
       "    </tr>\n",
       "    <tr>\n",
       "      <th>p(black=1)</th>\n",
       "      <td>0.018755</td>\n",
       "      <td>0.053191</td>\n",
       "      <td>0.002725</td>\n",
       "      <td>0.018660</td>\n",
       "      <td>0.0</td>\n",
       "      <td>1.0</td>\n",
       "      <td>0.478261</td>\n",
       "      <td>0.021247</td>\n",
       "      <td>0.011628</td>\n",
       "    </tr>\n",
       "    <tr>\n",
       "      <th>p(black=0)</th>\n",
       "      <td>0.981245</td>\n",
       "      <td>0.946809</td>\n",
       "      <td>0.997275</td>\n",
       "      <td>0.981340</td>\n",
       "      <td>1.0</td>\n",
       "      <td>0.0</td>\n",
       "      <td>0.521739</td>\n",
       "      <td>0.978753</td>\n",
       "      <td>0.988372</td>\n",
       "    </tr>\n",
       "    <tr>\n",
       "      <th>gini(binary)</th>\n",
       "      <td>0.037000</td>\n",
       "      <td>0.101000</td>\n",
       "      <td>0.005000</td>\n",
       "      <td>0.037000</td>\n",
       "      <td>0.0</td>\n",
       "      <td>0.0</td>\n",
       "      <td>0.499000</td>\n",
       "      <td>0.042000</td>\n",
       "      <td>0.023000</td>\n",
       "    </tr>\n",
       "    <tr>\n",
       "      <th>p(red=1)</th>\n",
       "      <td>0.011193</td>\n",
       "      <td>0.049451</td>\n",
       "      <td>0.002688</td>\n",
       "      <td>0.013148</td>\n",
       "      <td>0.0</td>\n",
       "      <td>1.0</td>\n",
       "      <td>0.406250</td>\n",
       "      <td>0.009257</td>\n",
       "      <td>0.009434</td>\n",
       "    </tr>\n",
       "    <tr>\n",
       "      <th>p(red=0)</th>\n",
       "      <td>0.988807</td>\n",
       "      <td>0.950549</td>\n",
       "      <td>0.997312</td>\n",
       "      <td>0.986852</td>\n",
       "      <td>1.0</td>\n",
       "      <td>0.0</td>\n",
       "      <td>0.593750</td>\n",
       "      <td>0.990743</td>\n",
       "      <td>0.990566</td>\n",
       "    </tr>\n",
       "    <tr>\n",
       "      <th>gini(weight)</th>\n",
       "      <td>0.022000</td>\n",
       "      <td>0.094000</td>\n",
       "      <td>0.005000</td>\n",
       "      <td>0.026000</td>\n",
       "      <td>0.0</td>\n",
       "      <td>0.0</td>\n",
       "      <td>0.482000</td>\n",
       "      <td>0.018000</td>\n",
       "      <td>0.019000</td>\n",
       "    </tr>\n",
       "  </tbody>\n",
       "</table>\n",
       "</div>"
      ],
      "text/plain": [
       "              行政许可 Administrative permission  行政处罚 Administrative penalty  \\\n",
       "row_name                                                                    \n",
       "p(red=1)                            0.923856                     0.888298   \n",
       "p(red=0)                            0.076144                     0.111702   \n",
       "gini(binary)                        0.141000                     0.198000   \n",
       "p(red=1)                            0.957124                     0.920330   \n",
       "p(red=0)                            0.042876                     0.079670   \n",
       "gini(weight)                        0.082000                     0.147000   \n",
       "p(black=1)                          0.018755                     0.053191   \n",
       "p(black=0)                          0.981245                     0.946809   \n",
       "gini(binary)                        0.037000                     0.101000   \n",
       "p(red=1)                            0.011193                     0.049451   \n",
       "p(red=0)                            0.988807                     0.950549   \n",
       "gini(weight)                        0.022000                     0.094000   \n",
       "\n",
       "              海关高级认证企业 Customs advanced accreditation enterprise  \\\n",
       "row_name                                                           \n",
       "p(red=1)                                               0.997275    \n",
       "p(red=0)                                               0.002725    \n",
       "gini(binary)                                           0.005000    \n",
       "p(red=1)                                               0.997312    \n",
       "p(red=0)                                               0.002688    \n",
       "gini(weight)                                           0.005000    \n",
       "p(black=1)                                             0.002725    \n",
       "p(black=0)                                             0.997275    \n",
       "gini(binary)                                           0.005000    \n",
       "p(red=1)                                               0.002688    \n",
       "p(red=0)                                               0.997312    \n",
       "gini(weight)                                           0.005000    \n",
       "\n",
       "              纳税信用A级纳税人 A-level taxpayer information  \\\n",
       "row_name                                               \n",
       "p(red=1)                                    0.981340   \n",
       "p(red=0)                                    0.018660   \n",
       "gini(binary)                                0.037000   \n",
       "p(red=1)                                    0.986852   \n",
       "p(red=0)                                    0.013148   \n",
       "gini(weight)                                0.026000   \n",
       "p(black=1)                                  0.018660   \n",
       "p(black=0)                                  0.981340   \n",
       "gini(binary)                                0.037000   \n",
       "p(red=1)                                    0.013148   \n",
       "p(red=0)                                    0.986852   \n",
       "gini(weight)                                0.026000   \n",
       "\n",
       "              公路工程建设领域守信典型企业 Typical trustworthy enterprises in the field of highway engineering construction  \\\n",
       "row_name                                                                                                        \n",
       "p(red=1)                                                    1.0                                                 \n",
       "p(red=0)                                                    0.0                                                 \n",
       "gini(binary)                                                0.0                                                 \n",
       "p(red=1)                                                    1.0                                                 \n",
       "p(red=0)                                                    0.0                                                 \n",
       "gini(weight)                                                0.0                                                 \n",
       "p(black=1)                                                  0.0                                                 \n",
       "p(black=0)                                                  1.0                                                 \n",
       "gini(binary)                                                0.0                                                 \n",
       "p(red=1)                                                    0.0                                                 \n",
       "p(red=0)                                                    1.0                                                 \n",
       "gini(weight)                                                0.0                                                 \n",
       "\n",
       "              严重失信主体名单 Severe untrustworthy entity list  \\\n",
       "row_name                                                  \n",
       "p(red=1)                                            0.0   \n",
       "p(red=0)                                            1.0   \n",
       "gini(binary)                                        0.0   \n",
       "p(red=1)                                            0.0   \n",
       "p(red=0)                                            1.0   \n",
       "gini(weight)                                        0.0   \n",
       "p(black=1)                                          1.0   \n",
       "p(black=0)                                          0.0   \n",
       "gini(binary)                                        0.0   \n",
       "p(red=1)                                            1.0   \n",
       "p(red=0)                                            0.0   \n",
       "gini(weight)                                        0.0   \n",
       "\n",
       "              经营异常 Abnormal operation  \\\n",
       "row_name                                \n",
       "p(red=1)                     0.217391   \n",
       "p(red=0)                     0.782609   \n",
       "gini(binary)                 0.340000   \n",
       "p(red=1)                     0.156250   \n",
       "p(red=0)                     0.843750   \n",
       "gini(weight)                 0.264000   \n",
       "p(black=1)                   0.478261   \n",
       "p(black=0)                   0.521739   \n",
       "gini(binary)                 0.499000   \n",
       "p(red=1)                     0.406250   \n",
       "p(red=0)                     0.593750   \n",
       "gini(weight)                 0.482000   \n",
       "\n",
       "              企业信用承诺及其履约践诺情况信息 Corporate credit commitment and implementation information  \\\n",
       "row_name                                                                                    \n",
       "p(red=1)                                               0.912240                             \n",
       "p(red=0)                                               0.087760                             \n",
       "gini(binary)                                           0.160000                             \n",
       "p(red=1)                                               0.954857                             \n",
       "p(red=0)                                               0.045143                             \n",
       "gini(weight)                                           0.086000                             \n",
       "p(black=1)                                             0.021247                             \n",
       "p(black=0)                                             0.978753                             \n",
       "gini(binary)                                           0.042000                             \n",
       "p(red=1)                                               0.009257                             \n",
       "p(red=0)                                               0.990743                             \n",
       "gini(weight)                                           0.018000                             \n",
       "\n",
       "              企业信用承诺公示 Enterprise credit commitment public notice  \n",
       "row_name                                                           \n",
       "p(red=1)                                               0.988372    \n",
       "p(red=0)                                               0.011628    \n",
       "gini(binary)                                           0.023000    \n",
       "p(red=1)                                               0.990566    \n",
       "p(red=0)                                               0.009434    \n",
       "gini(weight)                                           0.019000    \n",
       "p(black=1)                                             0.011628    \n",
       "p(black=0)                                             0.988372    \n",
       "gini(binary)                                           0.023000    \n",
       "p(red=1)                                               0.009434    \n",
       "p(red=0)                                               0.990566    \n",
       "gini(weight)                                           0.019000    "
      ]
     },
     "execution_count": 250,
     "metadata": {},
     "output_type": "execute_result"
    }
   ],
   "source": [
    "df_gini"
   ]
  },
  {
   "cell_type": "markdown",
   "id": "2e19907f",
   "metadata": {},
   "source": [
    "# 4. Data Exploration & Visulization EDA"
   ]
  },
  {
   "cell_type": "markdown",
   "id": "e7ab63d5",
   "metadata": {},
   "source": [
    "## MetaData"
   ]
  },
  {
   "cell_type": "code",
   "execution_count": 254,
   "id": "980ae15f",
   "metadata": {
    "scrolled": true
   },
   "outputs": [
    {
     "data": {
      "text/html": [
       "<div>\n",
       "<style scoped>\n",
       "    .dataframe tbody tr th:only-of-type {\n",
       "        vertical-align: middle;\n",
       "    }\n",
       "\n",
       "    .dataframe tbody tr th {\n",
       "        vertical-align: top;\n",
       "    }\n",
       "\n",
       "    .dataframe thead th {\n",
       "        text-align: right;\n",
       "    }\n",
       "</style>\n",
       "<table border=\"1\" class=\"dataframe\">\n",
       "  <thead>\n",
       "    <tr style=\"text-align: right;\">\n",
       "      <th></th>\n",
       "      <th>green</th>\n",
       "      <th>red</th>\n",
       "      <th>black</th>\n",
       "      <th>event_count</th>\n",
       "      <th>行政管理 Administrative management</th>\n",
       "      <th>行政许可 Administrative permission</th>\n",
       "      <th>行政处罚 Administrative penalty</th>\n",
       "      <th>诚实守信 Honesty and trustworthy</th>\n",
       "      <th>海关高级认证企业 Customs advanced accreditation enterprise</th>\n",
       "      <th>纳税信用A级纳税人 A-level taxpayer information</th>\n",
       "      <th>Latest evaluation year for A taxpayer</th>\n",
       "      <th>公路工程建设领域守信典型企业 Typical trustworthy enterprises in the field of highway engineering construction</th>\n",
       "      <th>严重失信主体名单 Severe untrustworthy entity list</th>\n",
       "      <th>经营异常 Abnormal operation</th>\n",
       "      <th>信用承诺 Credit commitment</th>\n",
       "      <th>企业信用承诺及其履约践诺情况信息 Corporate credit commitment and implementation information</th>\n",
       "      <th>企业信用承诺公示 Enterprise credit commitment public notice</th>\n",
       "    </tr>\n",
       "  </thead>\n",
       "  <tbody>\n",
       "    <tr>\n",
       "      <th>count</th>\n",
       "      <td>4257.0</td>\n",
       "      <td>4257.000000</td>\n",
       "      <td>4257.000000</td>\n",
       "      <td>4257.000000</td>\n",
       "      <td>4257.000000</td>\n",
       "      <td>2666.000000</td>\n",
       "      <td>188.000000</td>\n",
       "      <td>4257.000000</td>\n",
       "      <td>367.000000</td>\n",
       "      <td>3805.000000</td>\n",
       "      <td>3805.000000</td>\n",
       "      <td>11.000000</td>\n",
       "      <td>4257.000000</td>\n",
       "      <td>4257.000000</td>\n",
       "      <td>4257.000000</td>\n",
       "      <td>2165.000000</td>\n",
       "      <td>86.000000</td>\n",
       "    </tr>\n",
       "    <tr>\n",
       "      <th>mean</th>\n",
       "      <td>1.0</td>\n",
       "      <td>0.877848</td>\n",
       "      <td>0.030538</td>\n",
       "      <td>34.703312</td>\n",
       "      <td>26.671600</td>\n",
       "      <td>21.179670</td>\n",
       "      <td>1.936170</td>\n",
       "      <td>3.753347</td>\n",
       "      <td>1.013624</td>\n",
       "      <td>4.097766</td>\n",
       "      <td>2019.665703</td>\n",
       "      <td>1.272727</td>\n",
       "      <td>0.444210</td>\n",
       "      <td>0.007517</td>\n",
       "      <td>3.826638</td>\n",
       "      <td>7.284988</td>\n",
       "      <td>2.465116</td>\n",
       "    </tr>\n",
       "    <tr>\n",
       "      <th>std</th>\n",
       "      <td>0.0</td>\n",
       "      <td>0.327499</td>\n",
       "      <td>0.172082</td>\n",
       "      <td>114.661852</td>\n",
       "      <td>113.132239</td>\n",
       "      <td>23.033355</td>\n",
       "      <td>7.296338</td>\n",
       "      <td>2.088897</td>\n",
       "      <td>0.116082</td>\n",
       "      <td>1.660105</td>\n",
       "      <td>0.940498</td>\n",
       "      <td>0.467099</td>\n",
       "      <td>7.715802</td>\n",
       "      <td>0.146833</td>\n",
       "      <td>9.936146</td>\n",
       "      <td>11.005610</td>\n",
       "      <td>1.484807</td>\n",
       "    </tr>\n",
       "    <tr>\n",
       "      <th>min</th>\n",
       "      <td>1.0</td>\n",
       "      <td>0.000000</td>\n",
       "      <td>0.000000</td>\n",
       "      <td>0.000000</td>\n",
       "      <td>0.000000</td>\n",
       "      <td>2.000000</td>\n",
       "      <td>1.000000</td>\n",
       "      <td>0.000000</td>\n",
       "      <td>1.000000</td>\n",
       "      <td>1.000000</td>\n",
       "      <td>2015.000000</td>\n",
       "      <td>1.000000</td>\n",
       "      <td>0.000000</td>\n",
       "      <td>0.000000</td>\n",
       "      <td>0.000000</td>\n",
       "      <td>1.000000</td>\n",
       "      <td>1.000000</td>\n",
       "    </tr>\n",
       "    <tr>\n",
       "      <th>25%</th>\n",
       "      <td>1.0</td>\n",
       "      <td>1.000000</td>\n",
       "      <td>0.000000</td>\n",
       "      <td>8.000000</td>\n",
       "      <td>3.000000</td>\n",
       "      <td>6.000000</td>\n",
       "      <td>1.000000</td>\n",
       "      <td>2.000000</td>\n",
       "      <td>1.000000</td>\n",
       "      <td>3.000000</td>\n",
       "      <td>2020.000000</td>\n",
       "      <td>1.000000</td>\n",
       "      <td>0.000000</td>\n",
       "      <td>0.000000</td>\n",
       "      <td>0.000000</td>\n",
       "      <td>2.000000</td>\n",
       "      <td>1.000000</td>\n",
       "    </tr>\n",
       "    <tr>\n",
       "      <th>50%</th>\n",
       "      <td>1.0</td>\n",
       "      <td>1.000000</td>\n",
       "      <td>0.000000</td>\n",
       "      <td>16.000000</td>\n",
       "      <td>9.000000</td>\n",
       "      <td>12.000000</td>\n",
       "      <td>1.000000</td>\n",
       "      <td>4.000000</td>\n",
       "      <td>1.000000</td>\n",
       "      <td>4.000000</td>\n",
       "      <td>2020.000000</td>\n",
       "      <td>1.000000</td>\n",
       "      <td>0.000000</td>\n",
       "      <td>0.000000</td>\n",
       "      <td>1.000000</td>\n",
       "      <td>3.000000</td>\n",
       "      <td>2.000000</td>\n",
       "    </tr>\n",
       "    <tr>\n",
       "      <th>75%</th>\n",
       "      <td>1.0</td>\n",
       "      <td>1.000000</td>\n",
       "      <td>0.000000</td>\n",
       "      <td>31.000000</td>\n",
       "      <td>20.000000</td>\n",
       "      <td>26.000000</td>\n",
       "      <td>1.000000</td>\n",
       "      <td>5.000000</td>\n",
       "      <td>1.000000</td>\n",
       "      <td>5.000000</td>\n",
       "      <td>2020.000000</td>\n",
       "      <td>1.500000</td>\n",
       "      <td>0.000000</td>\n",
       "      <td>0.000000</td>\n",
       "      <td>4.000000</td>\n",
       "      <td>8.000000</td>\n",
       "      <td>4.000000</td>\n",
       "    </tr>\n",
       "    <tr>\n",
       "      <th>max</th>\n",
       "      <td>1.0</td>\n",
       "      <td>1.000000</td>\n",
       "      <td>1.000000</td>\n",
       "      <td>5547.000000</td>\n",
       "      <td>5545.000000</td>\n",
       "      <td>100.000000</td>\n",
       "      <td>100.000000</td>\n",
       "      <td>16.000000</td>\n",
       "      <td>2.000000</td>\n",
       "      <td>15.000000</td>\n",
       "      <td>2020.000000</td>\n",
       "      <td>2.000000</td>\n",
       "      <td>437.000000</td>\n",
       "      <td>8.000000</td>\n",
       "      <td>287.000000</td>\n",
       "      <td>100.000000</td>\n",
       "      <td>8.000000</td>\n",
       "    </tr>\n",
       "  </tbody>\n",
       "</table>\n",
       "</div>"
      ],
      "text/plain": [
       "        green          red        black  event_count  \\\n",
       "count  4257.0  4257.000000  4257.000000  4257.000000   \n",
       "mean      1.0     0.877848     0.030538    34.703312   \n",
       "std       0.0     0.327499     0.172082   114.661852   \n",
       "min       1.0     0.000000     0.000000     0.000000   \n",
       "25%       1.0     1.000000     0.000000     8.000000   \n",
       "50%       1.0     1.000000     0.000000    16.000000   \n",
       "75%       1.0     1.000000     0.000000    31.000000   \n",
       "max       1.0     1.000000     1.000000  5547.000000   \n",
       "\n",
       "       行政管理 Administrative management  行政许可 Administrative permission  \\\n",
       "count                     4257.000000                     2666.000000   \n",
       "mean                        26.671600                       21.179670   \n",
       "std                        113.132239                       23.033355   \n",
       "min                          0.000000                        2.000000   \n",
       "25%                          3.000000                        6.000000   \n",
       "50%                          9.000000                       12.000000   \n",
       "75%                         20.000000                       26.000000   \n",
       "max                       5545.000000                      100.000000   \n",
       "\n",
       "       行政处罚 Administrative penalty  诚实守信 Honesty and trustworthy  \\\n",
       "count                   188.000000                   4257.000000   \n",
       "mean                      1.936170                      3.753347   \n",
       "std                       7.296338                      2.088897   \n",
       "min                       1.000000                      0.000000   \n",
       "25%                       1.000000                      2.000000   \n",
       "50%                       1.000000                      4.000000   \n",
       "75%                       1.000000                      5.000000   \n",
       "max                     100.000000                     16.000000   \n",
       "\n",
       "       海关高级认证企业 Customs advanced accreditation enterprise  \\\n",
       "count                                         367.000000    \n",
       "mean                                            1.013624    \n",
       "std                                             0.116082    \n",
       "min                                             1.000000    \n",
       "25%                                             1.000000    \n",
       "50%                                             1.000000    \n",
       "75%                                             1.000000    \n",
       "max                                             2.000000    \n",
       "\n",
       "       纳税信用A级纳税人 A-level taxpayer information  \\\n",
       "count                             3805.000000   \n",
       "mean                                 4.097766   \n",
       "std                                  1.660105   \n",
       "min                                  1.000000   \n",
       "25%                                  3.000000   \n",
       "50%                                  4.000000   \n",
       "75%                                  5.000000   \n",
       "max                                 15.000000   \n",
       "\n",
       "       Latest evaluation year for A taxpayer  \\\n",
       "count                            3805.000000   \n",
       "mean                             2019.665703   \n",
       "std                                 0.940498   \n",
       "min                              2015.000000   \n",
       "25%                              2020.000000   \n",
       "50%                              2020.000000   \n",
       "75%                              2020.000000   \n",
       "max                              2020.000000   \n",
       "\n",
       "       公路工程建设领域守信典型企业 Typical trustworthy enterprises in the field of highway engineering construction  \\\n",
       "count                                          11.000000                                                 \n",
       "mean                                            1.272727                                                 \n",
       "std                                             0.467099                                                 \n",
       "min                                             1.000000                                                 \n",
       "25%                                             1.000000                                                 \n",
       "50%                                             1.000000                                                 \n",
       "75%                                             1.500000                                                 \n",
       "max                                             2.000000                                                 \n",
       "\n",
       "       严重失信主体名单 Severe untrustworthy entity list  经营异常 Abnormal operation  \\\n",
       "count                                4257.000000              4257.000000   \n",
       "mean                                    0.444210                 0.007517   \n",
       "std                                     7.715802                 0.146833   \n",
       "min                                     0.000000                 0.000000   \n",
       "25%                                     0.000000                 0.000000   \n",
       "50%                                     0.000000                 0.000000   \n",
       "75%                                     0.000000                 0.000000   \n",
       "max                                   437.000000                 8.000000   \n",
       "\n",
       "       信用承诺 Credit commitment  \\\n",
       "count             4257.000000   \n",
       "mean                 3.826638   \n",
       "std                  9.936146   \n",
       "min                  0.000000   \n",
       "25%                  0.000000   \n",
       "50%                  1.000000   \n",
       "75%                  4.000000   \n",
       "max                287.000000   \n",
       "\n",
       "       企业信用承诺及其履约践诺情况信息 Corporate credit commitment and implementation information  \\\n",
       "count                                        2165.000000                             \n",
       "mean                                            7.284988                             \n",
       "std                                            11.005610                             \n",
       "min                                             1.000000                             \n",
       "25%                                             2.000000                             \n",
       "50%                                             3.000000                             \n",
       "75%                                             8.000000                             \n",
       "max                                           100.000000                             \n",
       "\n",
       "       企业信用承诺公示 Enterprise credit commitment public notice  \n",
       "count                                          86.000000    \n",
       "mean                                            2.465116    \n",
       "std                                             1.484807    \n",
       "min                                             1.000000    \n",
       "25%                                             1.000000    \n",
       "50%                                             2.000000    \n",
       "75%                                             4.000000    \n",
       "max                                             8.000000    "
      ]
     },
     "execution_count": 254,
     "metadata": {},
     "output_type": "execute_result"
    }
   ],
   "source": [
    "df_meta_m_new.describe()"
   ]
  },
  {
   "cell_type": "code",
   "execution_count": 264,
   "id": "805411dd",
   "metadata": {},
   "outputs": [
    {
     "data": {
      "text/plain": [
       "<AxesSubplot: >"
      ]
     },
     "execution_count": 264,
     "metadata": {},
     "output_type": "execute_result"
    },
    {
     "data": {
      "image/png": "[encoded data removed]",
      "text/plain": [
       "<Figure size 432x288 with 1 Axes>"
      ]
     },
     "metadata": {
      "needs_background": "light"
     },
     "output_type": "display_data"
    }
   ],
   "source": [
    "# check missing value\n",
    "sns.heatmap(df_meta_m_new.isnull(),cbar=False,yticklabels=False)"
   ]
  },
  {
   "cell_type": "code",
   "execution_count": 265,
   "id": "732f0882",
   "metadata": {},
   "outputs": [],
   "source": [
    "# fill na in numbers\n",
    "df_meta_m_new = df_meta_m_new.fillna(0)"
   ]
  },
  {
   "cell_type": "code",
   "execution_count": 281,
   "id": "e96cc077",
   "metadata": {},
   "outputs": [],
   "source": [
    "df_plot_data = df_meta_m_new[['行政许可 Administrative permission',\n",
    "    '行政处罚 Administrative penalty',\n",
    "    '海关高级认证企业 Customs advanced accreditation enterprise',\n",
    "    '纳税信用A级纳税人 A-level taxpayer information',\n",
    "    '公路工程建设领域守信典型企业 Typical trustworthy enterprises in the field of highway engineering construction',\n",
    "    '严重失信主体名单 Severe untrustworthy entity list',\n",
    "    '经营异常 Abnormal operation',\n",
    "    '企业信用承诺及其履约践诺情况信息 Corporate credit commitment and implementation information',\n",
    "    '企业信用承诺公示 Enterprise credit commitment public notice',\n",
    "                             'red', 'black']]\n",
    "df_plot_data.columns = ['Admin permission',\n",
    "    'Admin penalty',\n",
    "    'Customs accreditation',\n",
    "    'A-level taxpayer',\n",
    "    'Trustworthy enterprises in highway construction',\n",
    "    'Severe untrustworthy entity',\n",
    "    'Abnormal operation',\n",
    "    'Credit commitment and implementation',\n",
    "    'Credit commitment public notice',\n",
    "                             'red', 'black']"
   ]
  },
  {
   "cell_type": "code",
   "execution_count": 284,
   "id": "545591fd",
   "metadata": {},
   "outputs": [
    {
     "data": {
      "text/plain": [
       "<AxesSubplot: >"
      ]
     },
     "execution_count": 284,
     "metadata": {},
     "output_type": "execute_result"
    },
    {
     "data": {
      "image/png": "[encoded data removed]",
      "text/plain": [
       "<Figure size 720x432 with 2 Axes>"
      ]
     },
     "metadata": {},
     "output_type": "display_data"
    }
   ],
   "source": [
    "# check correlation\n",
    "# Dark shades represents positive correlation while lighter shades represents negative correlation.\n",
    "sns.set(font='SimSun', font_scale=0.8)\n",
    "\n",
    "plt.figure(figsize=(10,6))\n",
    "sns.heatmap(df_plot_data.corr(),cmap='Blues',annot=True) "
   ]
  },
  {
   "cell_type": "code",
   "execution_count": 296,
   "id": "e22e19d8",
   "metadata": {
    "scrolled": true
   },
   "outputs": [
    {
     "name": "stderr",
     "output_type": "stream",
     "text": [
      "C:\\Users\\f-li\\Miniconda3\\envs\\parsingpdf\\lib\\site-packages\\seaborn\\utils.py:80: UserWarning: Glyph 8722 (\\N{MINUS SIGN}) missing from current font.\n",
      "  fig.canvas.draw()\n"
     ]
    },
    {
     "data": {
      "text/plain": [
       "<AxesSubplot: >"
      ]
     },
     "execution_count": 296,
     "metadata": {},
     "output_type": "execute_result"
    },
    {
     "name": "stderr",
     "output_type": "stream",
     "text": [
      "C:\\Users\\f-li\\Miniconda3\\envs\\parsingpdf\\lib\\site-packages\\IPython\\core\\events.py:89: UserWarning: Glyph 8722 (\\N{MINUS SIGN}) missing from current font.\n",
      "  func(*args, **kwargs)\n",
      "C:\\Users\\f-li\\Miniconda3\\envs\\parsingpdf\\lib\\site-packages\\IPython\\core\\pylabtools.py:134: UserWarning: Glyph 8722 (\\N{MINUS SIGN}) missing from current font.\n",
      "  fig.canvas.print_figure(bytes_io, **kw)\n"
     ]
    },
    {
     "data": {
      "image/png": "[encoded data removed]",
      "text/plain": [
       "<Figure size 720x432 with 2 Axes>"
      ]
     },
     "metadata": {
      "needs_background": "light"
     },
     "output_type": "display_data"
    }
   ],
   "source": [
    "#Quality correlation matrix\n",
    "# binary\n",
    "df_plot_bi_data = df_plot_data.copy()\n",
    "df_plot_bi_data[df_plot_bi_data > 0] = 1\n",
    "\n",
    "k = 11 #number of variables for heatmap\n",
    "#cols = df_plot_data.corr().nlargest(k, 'red')['red'].index\n",
    "#cm = df_plot_data[cols].corr()\n",
    "cols = df_plot_bi_data.corr().nlargest(k, 'red')['red'].index\n",
    "cm = df_plot_bi_data[cols].corr()\n",
    "plt.figure(figsize=(10,6))\n",
    "sns.heatmap(cm, annot=True, cmap = 'viridis')\n",
    "\n"
   ]
  },
  {
   "cell_type": "code",
   "execution_count": 303,
   "id": "c15884f2",
   "metadata": {
    "scrolled": true
   },
   "outputs": [
    {
     "name": "stderr",
     "output_type": "stream",
     "text": [
      "C:\\Users\\f-li\\AppData\\Local\\Temp/ipykernel_892/3334144177.py:1: UserWarning: \n",
      "\n",
      "`distplot` is a deprecated function and will be removed in seaborn v0.14.0.\n",
      "\n",
      "Please adapt your code to use either `displot` (a figure-level function with\n",
      "similar flexibility) or `histplot` (an axes-level function for histograms).\n",
      "\n",
      "For a guide to updating your code to use the new functions, please see\n",
      "https://gist.github.com/mwaskom/de44147ed2974457ad6372750bbe5751\n",
      "\n",
      "  sns.distplot(df_plot_data['A-level taxpayer'], kde=True)\n"
     ]
    },
    {
     "data": {
      "text/plain": [
       "<AxesSubplot: xlabel='A-level taxpayer', ylabel='Density'>"
      ]
     },
     "execution_count": 303,
     "metadata": {},
     "output_type": "execute_result"
    },
    {
     "data": {
      "image/png": "[encoded data removed]",
      "text/plain": [
       "<Figure size 432x288 with 1 Axes>"
      ]
     },
     "metadata": {
      "needs_background": "light"
     },
     "output_type": "display_data"
    }
   ],
   "source": [
    "sns.distplot(df_plot_data['A-level taxpayer'], kde=True)"
   ]
  },
  {
   "cell_type": "markdown",
   "id": "dfec1266",
   "metadata": {},
   "source": [
    "## event5"
   ]
  },
  {
   "cell_type": "code",
   "execution_count": 392,
   "id": "f2fb496f",
   "metadata": {},
   "outputs": [
    {
     "data": {
      "text/plain": [
       "176"
      ]
     },
     "execution_count": 392,
     "metadata": {},
     "output_type": "execute_result"
    }
   ],
   "source": [
    "df_event_public.duplicated(keep=False).sum()"
   ]
  },
  {
   "cell_type": "code",
   "execution_count": 393,
   "id": "0224616c",
   "metadata": {},
   "outputs": [
    {
     "data": {
      "text/html": [
       "<div>\n",
       "<style scoped>\n",
       "    .dataframe tbody tr th:only-of-type {\n",
       "        vertical-align: middle;\n",
       "    }\n",
       "\n",
       "    .dataframe tbody tr th {\n",
       "        vertical-align: top;\n",
       "    }\n",
       "\n",
       "    .dataframe thead th {\n",
       "        text-align: right;\n",
       "    }\n",
       "</style>\n",
       "<table border=\"1\" class=\"dataframe\">\n",
       "  <thead>\n",
       "    <tr style=\"text-align: right;\">\n",
       "      <th></th>\n",
       "      <th>统一社会信用代码 Unified Social Credit Identifier</th>\n",
       "      <th>company_name</th>\n",
       "      <th>信用承诺事项 Credit Commitment Matters</th>\n",
       "      <th>做出信用承诺时间 Time to make a credit commitment</th>\n",
       "      <th>经办人 Manager</th>\n",
       "      <th>year</th>\n",
       "    </tr>\n",
       "  </thead>\n",
       "  <tbody>\n",
       "    <tr>\n",
       "      <th>0</th>\n",
       "      <td>91320200607984659Y</td>\n",
       "      <td>双良节能系统股份有限公司</td>\n",
       "      <td>物联网发展专项资金</td>\n",
       "      <td>2017-02-23</td>\n",
       "      <td>— —</td>\n",
       "      <td>2017</td>\n",
       "    </tr>\n",
       "    <tr>\n",
       "      <th>1</th>\n",
       "      <td>91320200607984659Y</td>\n",
       "      <td>双良节能系统股份有限公司</td>\n",
       "      <td>物联网发展专项资金</td>\n",
       "      <td>2018-06-15</td>\n",
       "      <td>— —</td>\n",
       "      <td>2018</td>\n",
       "    </tr>\n",
       "    <tr>\n",
       "      <th>2</th>\n",
       "      <td>91320200607984659Y</td>\n",
       "      <td>双良节能系统股份有限公司</td>\n",
       "      <td>物联网发展专项资金</td>\n",
       "      <td>2018-06-15</td>\n",
       "      <td>— —</td>\n",
       "      <td>2018</td>\n",
       "    </tr>\n",
       "    <tr>\n",
       "      <th>3</th>\n",
       "      <td>91320200607984659Y</td>\n",
       "      <td>双良节能系统股份有限公司</td>\n",
       "      <td>物联网发展专项资金</td>\n",
       "      <td>2017-02-23</td>\n",
       "      <td>— —</td>\n",
       "      <td>2017</td>\n",
       "    </tr>\n",
       "    <tr>\n",
       "      <th>5</th>\n",
       "      <td>91320200240507994H</td>\n",
       "      <td>天奇自动化工程股份有限公司</td>\n",
       "      <td>总部经济发展资金</td>\n",
       "      <td>2017-10-31</td>\n",
       "      <td>— —</td>\n",
       "      <td>2017</td>\n",
       "    </tr>\n",
       "    <tr>\n",
       "      <th>...</th>\n",
       "      <td>...</td>\n",
       "      <td>...</td>\n",
       "      <td>...</td>\n",
       "      <td>...</td>\n",
       "      <td>...</td>\n",
       "      <td>...</td>\n",
       "    </tr>\n",
       "    <tr>\n",
       "      <th>193</th>\n",
       "      <td>913202007333114202</td>\n",
       "      <td>美尚生态景观股份有限公司</td>\n",
       "      <td>绿化企业信用等级评价</td>\n",
       "      <td>2018-11-14</td>\n",
       "      <td>— —</td>\n",
       "      <td>2018</td>\n",
       "    </tr>\n",
       "    <tr>\n",
       "      <th>206</th>\n",
       "      <td>91320200733313338L</td>\n",
       "      <td>凯龙高科技股份有限公司</td>\n",
       "      <td>承诺遵守劳动保障法律、法规及政策,规范用工</td>\n",
       "      <td>2018-11-01</td>\n",
       "      <td>— —</td>\n",
       "      <td>2018</td>\n",
       "    </tr>\n",
       "    <tr>\n",
       "      <th>207</th>\n",
       "      <td>91320200733313338L</td>\n",
       "      <td>凯龙高科技股份有限公司</td>\n",
       "      <td>承诺遵守劳动保障法律、法规及政策,规范用工</td>\n",
       "      <td>2018-11-01</td>\n",
       "      <td>— —</td>\n",
       "      <td>2018</td>\n",
       "    </tr>\n",
       "    <tr>\n",
       "      <th>208</th>\n",
       "      <td>91320200733313338L</td>\n",
       "      <td>凯龙高科技股份有限公司</td>\n",
       "      <td>工业发展资金</td>\n",
       "      <td>2018-05-07</td>\n",
       "      <td>— —</td>\n",
       "      <td>2018</td>\n",
       "    </tr>\n",
       "    <tr>\n",
       "      <th>209</th>\n",
       "      <td>91320200733313338L</td>\n",
       "      <td>凯龙高科技股份有限公司</td>\n",
       "      <td>工业发展资金</td>\n",
       "      <td>2018-05-07</td>\n",
       "      <td>— —</td>\n",
       "      <td>2018</td>\n",
       "    </tr>\n",
       "  </tbody>\n",
       "</table>\n",
       "<p>176 rows × 6 columns</p>\n",
       "</div>"
      ],
      "text/plain": [
       "    统一社会信用代码 Unified Social Credit Identifier   company_name  \\\n",
       "0                          91320200607984659Y   双良节能系统股份有限公司   \n",
       "1                          91320200607984659Y   双良节能系统股份有限公司   \n",
       "2                          91320200607984659Y   双良节能系统股份有限公司   \n",
       "3                          91320200607984659Y   双良节能系统股份有限公司   \n",
       "5                          91320200240507994H  天奇自动化工程股份有限公司   \n",
       "..                                        ...            ...   \n",
       "193                        913202007333114202   美尚生态景观股份有限公司   \n",
       "206                        91320200733313338L    凯龙高科技股份有限公司   \n",
       "207                        91320200733313338L    凯龙高科技股份有限公司   \n",
       "208                        91320200733313338L    凯龙高科技股份有限公司   \n",
       "209                        91320200733313338L    凯龙高科技股份有限公司   \n",
       "\n",
       "    信用承诺事项 Credit Commitment Matters  \\\n",
       "0                          物联网发展专项资金   \n",
       "1                          物联网发展专项资金   \n",
       "2                          物联网发展专项资金   \n",
       "3                          物联网发展专项资金   \n",
       "5                           总部经济发展资金   \n",
       "..                               ...   \n",
       "193                       绿化企业信用等级评价   \n",
       "206            承诺遵守劳动保障法律、法规及政策,规范用工   \n",
       "207            承诺遵守劳动保障法律、法规及政策,规范用工   \n",
       "208                           工业发展资金   \n",
       "209                           工业发展资金   \n",
       "\n",
       "    做出信用承诺时间 Time to make a credit commitment 经办人 Manager  year  \n",
       "0                                  2017-02-23         — —  2017  \n",
       "1                                  2018-06-15         — —  2018  \n",
       "2                                  2018-06-15         — —  2018  \n",
       "3                                  2017-02-23         — —  2017  \n",
       "5                                  2017-10-31         — —  2017  \n",
       "..                                        ...         ...   ...  \n",
       "193                                2018-11-14         — —  2018  \n",
       "206                                2018-11-01         — —  2018  \n",
       "207                                2018-11-01         — —  2018  \n",
       "208                                2018-05-07         — —  2018  \n",
       "209                                2018-05-07         — —  2018  \n",
       "\n",
       "[176 rows x 6 columns]"
      ]
     },
     "execution_count": 393,
     "metadata": {},
     "output_type": "execute_result"
    }
   ],
   "source": [
    "df_event_public[df_event_public.duplicated(keep=False)]"
   ]
  },
  {
   "cell_type": "code",
   "execution_count": 323,
   "id": "90f01d03",
   "metadata": {},
   "outputs": [
    {
     "data": {
      "text/plain": [
       "2018    119\n",
       "2017     91\n",
       "2011      1\n",
       "Name: 做出信用承诺时间 Time to make a credit commitment, dtype: int64"
      ]
     },
     "execution_count": 323,
     "metadata": {},
     "output_type": "execute_result"
    },
    {
     "data": {
      "image/png": "[encoded data removed]",
      "text/plain": [
       "<Figure size 432x288 with 1 Axes>"
      ]
     },
     "metadata": {
      "needs_background": "light"
     },
     "output_type": "display_data"
    }
   ],
   "source": [
    "# sub-event 9\n",
    "# remove the rows without data\n",
    "df_tmp = df_event_public.drop(df_event_public[df_event_public['做出信用承诺时间 Time to make a credit commitment'] == '— —'].index)\n",
    "year = df_tmp['做出信用承诺时间 Time to make a credit commitment'].str[:4]\n",
    "\n",
    "# distribution of year\n",
    "plt.hist(year)\n",
    "year.value_counts()"
   ]
  },
  {
   "cell_type": "code",
   "execution_count": 394,
   "id": "796c83d2",
   "metadata": {},
   "outputs": [
    {
     "data": {
      "text/plain": [
       "1354"
      ]
     },
     "execution_count": 394,
     "metadata": {},
     "output_type": "execute_result"
    }
   ],
   "source": [
    "df_event_implementation.duplicated().sum()"
   ]
  },
  {
   "cell_type": "code",
   "execution_count": 395,
   "id": "f6b1d937",
   "metadata": {},
   "outputs": [
    {
     "data": {
      "text/html": [
       "<div>\n",
       "<style scoped>\n",
       "    .dataframe tbody tr th:only-of-type {\n",
       "        vertical-align: middle;\n",
       "    }\n",
       "\n",
       "    .dataframe tbody tr th {\n",
       "        vertical-align: top;\n",
       "    }\n",
       "\n",
       "    .dataframe thead th {\n",
       "        text-align: right;\n",
       "    }\n",
       "</style>\n",
       "<table border=\"1\" class=\"dataframe\">\n",
       "  <thead>\n",
       "    <tr style=\"text-align: right;\">\n",
       "      <th></th>\n",
       "      <th>统一社会信用代码 Unified Social Credit Identifier</th>\n",
       "      <th>company_name</th>\n",
       "      <th>承诺类型 Commitment type</th>\n",
       "      <th>承诺事由 Commitment reason</th>\n",
       "      <th>做出承诺日期 Commitment date</th>\n",
       "      <th>承诺受理单位 Commitment processing unit</th>\n",
       "      <th>承诺履约状态 Commitment implementation status</th>\n",
       "    </tr>\n",
       "  </thead>\n",
       "  <tbody>\n",
       "    <tr>\n",
       "      <th>34</th>\n",
       "      <td>914300006940434345</td>\n",
       "      <td>华自科技股份有限公司</td>\n",
       "      <td>主动型</td>\n",
       "      <td>公共资源交易事前信用承诺书</td>\n",
       "      <td>2020-11-30</td>\n",
       "      <td>武汉市政务服务和大数据管理局(武汉市公共资源交易监督管理局)</td>\n",
       "      <td>— —</td>\n",
       "    </tr>\n",
       "    <tr>\n",
       "      <th>37</th>\n",
       "      <td>914300006940434345</td>\n",
       "      <td>华自科技股份有限公司</td>\n",
       "      <td>主动型</td>\n",
       "      <td>公共资源交易事前信用承诺书</td>\n",
       "      <td>2020-11-30</td>\n",
       "      <td>武汉市政务服务和大数据管理局(武汉市公共资源交易监督管理局)</td>\n",
       "      <td>— —</td>\n",
       "    </tr>\n",
       "    <tr>\n",
       "      <th>43</th>\n",
       "      <td>91310000566558740F</td>\n",
       "      <td>华荣科技股份有限公司</td>\n",
       "      <td>主动型</td>\n",
       "      <td>自愿作出承诺</td>\n",
       "      <td>2020-09-17</td>\n",
       "      <td>兰州市公共资源交易中心</td>\n",
       "      <td>— —</td>\n",
       "    </tr>\n",
       "    <tr>\n",
       "      <th>46</th>\n",
       "      <td>91310000566558740F</td>\n",
       "      <td>华荣科技股份有限公司</td>\n",
       "      <td>主动型</td>\n",
       "      <td>自愿作出承诺</td>\n",
       "      <td>2020-09-17</td>\n",
       "      <td>兰州市公共资源交易中心</td>\n",
       "      <td>— —</td>\n",
       "    </tr>\n",
       "    <tr>\n",
       "      <th>49</th>\n",
       "      <td>91510300762306858F</td>\n",
       "      <td>华西能源工业股份有限公司</td>\n",
       "      <td>行业自律型</td>\n",
       "      <td>行业自律</td>\n",
       "      <td>2021-09-14</td>\n",
       "      <td>焦作市发展和改革委员会</td>\n",
       "      <td>— —</td>\n",
       "    </tr>\n",
       "    <tr>\n",
       "      <th>...</th>\n",
       "      <td>...</td>\n",
       "      <td>...</td>\n",
       "      <td>...</td>\n",
       "      <td>...</td>\n",
       "      <td>...</td>\n",
       "      <td>...</td>\n",
       "      <td>...</td>\n",
       "    </tr>\n",
       "    <tr>\n",
       "      <th>15727</th>\n",
       "      <td>91350200612046130C</td>\n",
       "      <td>华懋(厦门)新材料科技股份有限公司</td>\n",
       "      <td>审批替代型</td>\n",
       "      <td>外商投资企业设立及变更备案</td>\n",
       "      <td>2019-09-10</td>\n",
       "      <td>厦门市商务局</td>\n",
       "      <td>— —</td>\n",
       "    </tr>\n",
       "    <tr>\n",
       "      <th>15728</th>\n",
       "      <td>91350200612046130C</td>\n",
       "      <td>华懋(厦门)新材料科技股份有限公司</td>\n",
       "      <td>审批替代型</td>\n",
       "      <td>环境行政许可的信用承诺</td>\n",
       "      <td>2020-11-12</td>\n",
       "      <td>厦门市生态环境局</td>\n",
       "      <td>— —</td>\n",
       "    </tr>\n",
       "    <tr>\n",
       "      <th>15729</th>\n",
       "      <td>91350200612046130C</td>\n",
       "      <td>华懋(厦门)新材料科技股份有限公司</td>\n",
       "      <td>审批替代型</td>\n",
       "      <td>材料真实性声明</td>\n",
       "      <td>2018-03-01</td>\n",
       "      <td>厦门市工业和信息化局</td>\n",
       "      <td>— —</td>\n",
       "    </tr>\n",
       "    <tr>\n",
       "      <th>15758</th>\n",
       "      <td>91440300757618160G</td>\n",
       "      <td>华测检测认证集团股份有限公司</td>\n",
       "      <td>主动型</td>\n",
       "      <td>自愿作出承诺</td>\n",
       "      <td>2018-03-28</td>\n",
       "      <td>兰州市公共资源交易中心</td>\n",
       "      <td>— —</td>\n",
       "    </tr>\n",
       "    <tr>\n",
       "      <th>15763</th>\n",
       "      <td>91440300757618160G</td>\n",
       "      <td>华测检测认证集团股份有限公司</td>\n",
       "      <td>主动型</td>\n",
       "      <td>自愿作出承诺</td>\n",
       "      <td>2018-03-28</td>\n",
       "      <td>兰州市公共资源交易中心</td>\n",
       "      <td>— —</td>\n",
       "    </tr>\n",
       "  </tbody>\n",
       "</table>\n",
       "<p>2484 rows × 7 columns</p>\n",
       "</div>"
      ],
      "text/plain": [
       "      统一社会信用代码 Unified Social Credit Identifier       company_name  \\\n",
       "34                           914300006940434345         华自科技股份有限公司   \n",
       "37                           914300006940434345         华自科技股份有限公司   \n",
       "43                           91310000566558740F         华荣科技股份有限公司   \n",
       "46                           91310000566558740F         华荣科技股份有限公司   \n",
       "49                           91510300762306858F       华西能源工业股份有限公司   \n",
       "...                                         ...                ...   \n",
       "15727                        91350200612046130C  华懋(厦门)新材料科技股份有限公司   \n",
       "15728                        91350200612046130C  华懋(厦门)新材料科技股份有限公司   \n",
       "15729                        91350200612046130C  华懋(厦门)新材料科技股份有限公司   \n",
       "15758                        91440300757618160G     华测检测认证集团股份有限公司   \n",
       "15763                        91440300757618160G     华测检测认证集团股份有限公司   \n",
       "\n",
       "      承诺类型 Commitment type 承诺事由 Commitment reason 做出承诺日期 Commitment date  \\\n",
       "34                     主动型          公共资源交易事前信用承诺书             2020-11-30   \n",
       "37                     主动型          公共资源交易事前信用承诺书             2020-11-30   \n",
       "43                     主动型                 自愿作出承诺             2020-09-17   \n",
       "46                     主动型                 自愿作出承诺             2020-09-17   \n",
       "49                   行业自律型                   行业自律             2021-09-14   \n",
       "...                    ...                    ...                    ...   \n",
       "15727                审批替代型          外商投资企业设立及变更备案             2019-09-10   \n",
       "15728                审批替代型            环境行政许可的信用承诺             2020-11-12   \n",
       "15729                审批替代型                材料真实性声明             2018-03-01   \n",
       "15758                  主动型                 自愿作出承诺             2018-03-28   \n",
       "15763                  主动型                 自愿作出承诺             2018-03-28   \n",
       "\n",
       "      承诺受理单位 Commitment processing unit  \\\n",
       "34       武汉市政务服务和大数据管理局(武汉市公共资源交易监督管理局)   \n",
       "37       武汉市政务服务和大数据管理局(武汉市公共资源交易监督管理局)   \n",
       "43                          兰州市公共资源交易中心   \n",
       "46                          兰州市公共资源交易中心   \n",
       "49                          焦作市发展和改革委员会   \n",
       "...                                 ...   \n",
       "15727                            厦门市商务局   \n",
       "15728                          厦门市生态环境局   \n",
       "15729                        厦门市工业和信息化局   \n",
       "15758                       兰州市公共资源交易中心   \n",
       "15763                       兰州市公共资源交易中心   \n",
       "\n",
       "      承诺履约状态 Commitment implementation status  \n",
       "34                                        — —  \n",
       "37                                        — —  \n",
       "43                                        — —  \n",
       "46                                        — —  \n",
       "49                                        — —  \n",
       "...                                       ...  \n",
       "15727                                     — —  \n",
       "15728                                     — —  \n",
       "15729                                     — —  \n",
       "15758                                     — —  \n",
       "15763                                     — —  \n",
       "\n",
       "[2484 rows x 7 columns]"
      ]
     },
     "execution_count": 395,
     "metadata": {},
     "output_type": "execute_result"
    }
   ],
   "source": [
    "df_event_implementation[df_event_implementation.duplicated(keep=False)]"
   ]
  },
  {
   "cell_type": "code",
   "execution_count": 330,
   "id": "7e3d15b8",
   "metadata": {},
   "outputs": [
    {
     "data": {
      "text/plain": [
       "([<matplotlib.patches.Wedge at 0x1578db40d60>,\n",
       "  <matplotlib.patches.Wedge at 0x1578db4f1c0>,\n",
       "  <matplotlib.patches.Wedge at 0x1578db4f640>,\n",
       "  <matplotlib.patches.Wedge at 0x1578db4fac0>,\n",
       "  <matplotlib.patches.Wedge at 0x1578db4ff40>],\n",
       " [Text(-0.09126246323607104, 1.0962076275980226, '主动型'),\n",
       "  Text(-0.45162324405260557, -1.0030136815773756, '审批替代型'),\n",
       "  Text(0.8413642031592036, -0.7085945791792926, '证明事项型'),\n",
       "  Text(1.0713661346166303, -0.2493483619288901, '行业自律型'),\n",
       "  Text(1.0993317720270794, -0.03833607976569116, '信用修复型')])"
      ]
     },
     "execution_count": 330,
     "metadata": {},
     "output_type": "execute_result"
    },
    {
     "data": {
      "image/png": "[encoded data removed]",
      "text/plain": [
       "<Figure size 432x288 with 1 Axes>"
      ]
     },
     "metadata": {},
     "output_type": "display_data"
    }
   ],
   "source": [
    "# sub-event8\n",
    "t = df_event_implementation['承诺类型 Commitment type'].value_counts()\n",
    "plt.pie(t, labels = t.index)"
   ]
  },
  {
   "cell_type": "code",
   "execution_count": 337,
   "id": "ee9ffeed",
   "metadata": {},
   "outputs": [
    {
     "data": {
      "text/plain": [
       "([<matplotlib.patches.Wedge at 0x1578dc60bb0>,\n",
       "  <matplotlib.patches.Wedge at 0x1578dc6c070>,\n",
       "  <matplotlib.patches.Wedge at 0x1578dc6c490>,\n",
       "  <matplotlib.patches.Wedge at 0x1578dc6c910>,\n",
       "  <matplotlib.patches.Wedge at 0x1578dc6cd90>,\n",
       "  <matplotlib.patches.Wedge at 0x157a679f250>,\n",
       "  <matplotlib.patches.Wedge at 0x157a679f6d0>,\n",
       "  <matplotlib.patches.Wedge at 0x157a679fb50>,\n",
       "  <matplotlib.patches.Wedge at 0x157a679ffd0>,\n",
       "  <matplotlib.patches.Wedge at 0x157a67ab4c0>,\n",
       "  <matplotlib.patches.Wedge at 0x1578dc60b80>,\n",
       "  <matplotlib.patches.Wedge at 0x157a67abd90>,\n",
       "  <matplotlib.patches.Wedge at 0x157a6874250>,\n",
       "  <matplotlib.patches.Wedge at 0x157a68746d0>,\n",
       "  <matplotlib.patches.Wedge at 0x157a6874b50>,\n",
       "  <matplotlib.patches.Wedge at 0x157a6874fd0>,\n",
       "  <matplotlib.patches.Wedge at 0x157a687f490>,\n",
       "  <matplotlib.patches.Wedge at 0x157a687f910>,\n",
       "  <matplotlib.patches.Wedge at 0x157a687fd90>,\n",
       "  <matplotlib.patches.Wedge at 0x157a688a250>,\n",
       "  <matplotlib.patches.Wedge at 0x157a688a6d0>,\n",
       "  <matplotlib.patches.Wedge at 0x157a688ab50>,\n",
       "  <matplotlib.patches.Wedge at 0x157a688afd0>,\n",
       "  <matplotlib.patches.Wedge at 0x157a6567490>,\n",
       "  <matplotlib.patches.Wedge at 0x157a6567910>,\n",
       "  <matplotlib.patches.Wedge at 0x157a6567d90>,\n",
       "  <matplotlib.patches.Wedge at 0x157a655e250>,\n",
       "  <matplotlib.patches.Wedge at 0x157a655e6d0>,\n",
       "  <matplotlib.patches.Wedge at 0x157a655eb50>,\n",
       "  <matplotlib.patches.Wedge at 0x157a655efd0>,\n",
       "  <matplotlib.patches.Wedge at 0x157a6551490>,\n",
       "  <matplotlib.patches.Wedge at 0x157a6551910>,\n",
       "  <matplotlib.patches.Wedge at 0x157a6551d90>,\n",
       "  <matplotlib.patches.Wedge at 0x157a6546250>,\n",
       "  <matplotlib.patches.Wedge at 0x157a65466d0>,\n",
       "  <matplotlib.patches.Wedge at 0x157a6546b50>,\n",
       "  <matplotlib.patches.Wedge at 0x157a6546fd0>,\n",
       "  <matplotlib.patches.Wedge at 0x157a3c2a490>,\n",
       "  <matplotlib.patches.Wedge at 0x157a3c2a910>,\n",
       "  <matplotlib.patches.Wedge at 0x157a3c2ad90>,\n",
       "  <matplotlib.patches.Wedge at 0x157a3c3b250>,\n",
       "  <matplotlib.patches.Wedge at 0x157a3c3b6d0>,\n",
       "  <matplotlib.patches.Wedge at 0x157a3c3bb50>,\n",
       "  <matplotlib.patches.Wedge at 0x157a3c3bfd0>,\n",
       "  <matplotlib.patches.Wedge at 0x157a3c4c490>,\n",
       "  <matplotlib.patches.Wedge at 0x157a3c4c910>],\n",
       " [Text(0.1780049074375926, 1.0855018438160915, '2021'),\n",
       "  Text(-1.0258404383699535, -0.39705339062264855, '2020'),\n",
       "  Text(-0.2685133436814375, -1.066724230654303, '1970'),\n",
       "  Text(0.2708500967309211, -1.0661333055021078, '2019'),\n",
       "  Text(0.6675787874206826, -0.8742645838565871, '2018'),\n",
       "  Text(0.8799503895314472, -0.6600661421126328, '2022'),\n",
       "  Text(0.9765817159124832, -0.506249100883577, '2017'),\n",
       "  Text(1.0252858666157632, -0.3984832389423219, '2016'),\n",
       "  Text(1.0513298042639414, -0.3235825129180239, '2015'),\n",
       "  Text(1.0615674221272722, -0.2882266612894409, '2014'),\n",
       "  Text(1.0667242294758639, -0.26851334836302804, '2000'),\n",
       "  Text(1.071067415843725, -0.25062839168347456, '2001'),\n",
       "  Text(1.0750643938706228, -0.23288741707441052, '1998'),\n",
       "  Text(1.0786388162457652, -0.21572738372291675, '1993'),\n",
       "  Text(1.0817808419295198, -0.1993745471073467, '1999'),\n",
       "  Text(1.0845654297461076, -0.18362415037146146, '2003'),\n",
       "  Text(1.0870202230459245, -0.16848452358952348, '2002'),\n",
       "  Text(1.0891104604652482, -0.15439690704536543, '1996'),\n",
       "  Text(1.0908778774153003, -0.14136992808192797, '1997'),\n",
       "  Text(1.0924382754001507, -0.12875796845533347, '2004'),\n",
       "  Text(1.0938297145865175, -0.11634670381054282, '2005'),\n",
       "  Text(1.094955172894567, -0.10522912786595388, '2007'),\n",
       "  Text(1.0958543911685361, -0.09541044678984088, '1994'),\n",
       "  Text(1.0966484960761986, -0.08580254106850324, '2006'),\n",
       "  Text(1.097343167765082, -0.07640662379201861, '1995'),\n",
       "  Text(1.0979171022856493, -0.0676611890871237, '1992'),\n",
       "  Text(1.0983740534708748, -0.05978660938671915, '2012'),\n",
       "  Text(1.0987433115377592, -0.052565533870008854, '2008'),\n",
       "  Text(1.0990101217533035, -0.0466556779373032, '2009'),\n",
       "  Text(1.0991956647223085, -0.042058181792401936, '2010'),\n",
       "  Text(1.0993544916587625, -0.03767892872288313, '2013'),\n",
       "  Text(1.0994892169088268, -0.03351808319720653, '1989'),\n",
       "  Text(1.0996023248921427, -0.029575785565138145, '1988'),\n",
       "  Text(1.0997012975293425, -0.025633107737470785, '1984'),\n",
       "  Text(1.0997817913229713, -0.021909164165630223, '1991'),\n",
       "  Text(1.0998460306313667, -0.01840404587114369, '1985'),\n",
       "  Text(1.0998961093236277, -0.0151178270510994, '1986'),\n",
       "  Text(1.0999315685211561, -0.012269660573523048, '1990'),\n",
       "  Text(1.0999577539884104, -0.009640510399961203, '2011'),\n",
       "  Text(1.0999762366567167, -0.0072304073555212334, '1987'),\n",
       "  Text(1.0999874310208713, -0.005258478497083147, '1900'),\n",
       "  Text(1.099993693746496, -0.0037247440100283673, '1982'),\n",
       "  Text(1.099996857827176, -0.002629214776267859, '1980'),\n",
       "  Text(1.099998603512378, -0.00175278943928985, '1983'),\n",
       "  Text(1.0999996509035403, -0.000876362989618298, '1981'),\n",
       "  Text(1.0999999781910321, -0.00021904275684811572, '1979')])"
      ]
     },
     "execution_count": 337,
     "metadata": {},
     "output_type": "execute_result"
    },
    {
     "data": {
      "image/png": "[encoded data removed]",
      "text/plain": [
       "<Figure size 432x288 with 1 Axes>"
      ]
     },
     "metadata": {},
     "output_type": "display_data"
    }
   ],
   "source": [
    "year = df_event_implementation['做出承诺日期 Commitment date'].str[:4].value_counts()\n",
    "plt.pie(year, labels=year.index)"
   ]
  },
  {
   "cell_type": "markdown",
   "id": "6a198d73",
   "metadata": {},
   "source": [
    "## event4"
   ]
  },
  {
   "cell_type": "code",
   "execution_count": 396,
   "id": "4c0f3224",
   "metadata": {},
   "outputs": [
    {
     "data": {
      "text/plain": [
       "0"
      ]
     },
     "execution_count": 396,
     "metadata": {},
     "output_type": "execute_result"
    }
   ],
   "source": [
    "df_event4_m.duplicated().sum()"
   ]
  },
  {
   "cell_type": "code",
   "execution_count": 339,
   "id": "2bcb228b",
   "metadata": {},
   "outputs": [
    {
     "data": {
      "text/plain": [
       "([<matplotlib.patches.Wedge at 0x157a3c9ce50>,\n",
       "  <matplotlib.patches.Wedge at 0x157a3c9e580>,\n",
       "  <matplotlib.patches.Wedge at 0x157a3c9e7f0>,\n",
       "  <matplotlib.patches.Wedge at 0x157a3c9efd0>,\n",
       "  <matplotlib.patches.Wedge at 0x157a3c9f5b0>,\n",
       "  <matplotlib.patches.Wedge at 0x157a3c9fb50>,\n",
       "  <matplotlib.patches.Wedge at 0x157a3c1e130>],\n",
       " [Text(0.10781885436251686, 1.0947031993394165, '2022'),\n",
       "  Text(-0.9701133907831906, -0.5185364105085974, '2021'),\n",
       "  Text(-0.10781885436251651, -1.0947031993394167, '2019'),\n",
       "  Text(0.5185364105085973, -0.9701133907831906, '2018'),\n",
       "  Text(0.9146165735327998, -0.6111272563215624, '2020'),\n",
       "  Text(1.0526343693054299, -0.31931314497990876, '2016'),\n",
       "  Text(1.0947031993394167, -0.10781885436251656, '2015')])"
      ]
     },
     "execution_count": 339,
     "metadata": {},
     "output_type": "execute_result"
    },
    {
     "data": {
      "image/png": "[encoded data removed]",
      "text/plain": [
       "<Figure size 432x288 with 1 Axes>"
      ]
     },
     "metadata": {},
     "output_type": "display_data"
    }
   ],
   "source": [
    "year = df_event4_m['设定日期 Establishment date'].str[:4].value_counts()\n",
    "plt.pie(year, labels=year.index)"
   ]
  },
  {
   "cell_type": "markdown",
   "id": "796d7132",
   "metadata": {},
   "source": [
    "## event3"
   ]
  },
  {
   "cell_type": "code",
   "execution_count": 398,
   "id": "9b01ff46",
   "metadata": {},
   "outputs": [
    {
     "data": {
      "text/plain": [
       "0"
      ]
     },
     "execution_count": 398,
     "metadata": {},
     "output_type": "execute_result"
    }
   ],
   "source": [
    "df_event3_m.duplicated(['案号 Case Number', '立案时间 Date of Filing', 'company_name']).sum()"
   ]
  },
  {
   "cell_type": "code",
   "execution_count": 346,
   "id": "1f7c1c56",
   "metadata": {},
   "outputs": [
    {
     "data": {
      "text/plain": [
       "<matplotlib.legend.Legend at 0x157a422d820>"
      ]
     },
     "execution_count": 346,
     "metadata": {},
     "output_type": "execute_result"
    },
    {
     "data": {
      "image/png": "[encoded data removed]",
      "text/plain": [
       "<Figure size 432x288 with 1 Axes>"
      ]
     },
     "metadata": {},
     "output_type": "display_data"
    }
   ],
   "source": [
    "data = df_event3_m['省份  Province'].value_counts()\n",
    "plt.pie(data, labels=data.index)\n",
    "plt.legend(loc='center right', bbox_to_anchor=(1.3, 0.5))"
   ]
  },
  {
   "cell_type": "code",
   "execution_count": 348,
   "id": "f4262ef6",
   "metadata": {},
   "outputs": [
    {
     "data": {
      "text/plain": [
       "([<matplotlib.patches.Wedge at 0x157a60accd0>,\n",
       "  <matplotlib.patches.Wedge at 0x157a4fac190>,\n",
       "  <matplotlib.patches.Wedge at 0x157a4fac5e0>,\n",
       "  <matplotlib.patches.Wedge at 0x157a4faca00>,\n",
       "  <matplotlib.patches.Wedge at 0x157a4face80>,\n",
       "  <matplotlib.patches.Wedge at 0x157a4fbb340>,\n",
       "  <matplotlib.patches.Wedge at 0x157a4fbb7c0>,\n",
       "  <matplotlib.patches.Wedge at 0x157a4fbbbe0>,\n",
       "  <matplotlib.patches.Wedge at 0x157a4fbbf70>,\n",
       "  <matplotlib.patches.Wedge at 0x157a4fc8460>,\n",
       "  <matplotlib.patches.Wedge at 0x157a60acca0>,\n",
       "  <matplotlib.patches.Wedge at 0x157a4fc8d30>,\n",
       "  <matplotlib.patches.Wedge at 0x157a4fd61f0>,\n",
       "  <matplotlib.patches.Wedge at 0x157a4fd6670>,\n",
       "  <matplotlib.patches.Wedge at 0x157a4fd6af0>,\n",
       "  <matplotlib.patches.Wedge at 0x157a4fd6f70>,\n",
       "  <matplotlib.patches.Wedge at 0x157a4fe0430>],\n",
       " [Text(0.6214595583466763, 0.9076276865210504, '2020'),\n",
       "  Text(-1.0688564220836883, 0.25989603492638447, '2021'),\n",
       "  Text(-0.355661880890009, -1.0409152830474637, '2019'),\n",
       "  Text(0.641655621373488, -0.8934640807328537, '2022'),\n",
       "  Text(1.036111023605732, -0.3694238037304611, '2018'),\n",
       "  Text(1.0871668619725396, -0.16753571030911987, '2017'),\n",
       "  Text(1.0920523852949846, -0.1319908624546967, '2014'),\n",
       "  Text(1.0951665903944527, -0.10300553035536025, '2015'),\n",
       "  Text(1.0973585653955533, -0.07618516228907884, '2016'),\n",
       "  Text(1.0986835897958256, -0.053799344915695636, '2013'),\n",
       "  Text(1.0992594556302158, -0.04035652620780986, '2006'),\n",
       "  Text(1.0995519972018701, -0.03139116833407907, '2011'),\n",
       "  Text(1.099771420181075, -0.022423722993771173, '2012'),\n",
       "  Text(1.0998879943787618, -0.015697127809415477, '2010'),\n",
       "  Text(1.0999428541185494, -0.011212389287727264, '2005'),\n",
       "  Text(1.0999794276363715, -0.006727464363409504, '2008'),\n",
       "  Text(1.0999977143242037, -0.0022424275970036917, '2003')])"
      ]
     },
     "execution_count": 348,
     "metadata": {},
     "output_type": "execute_result"
    },
    {
     "data": {
      "image/png": "[encoded data removed]",
      "text/plain": [
       "<Figure size 432x288 with 1 Axes>"
      ]
     },
     "metadata": {},
     "output_type": "display_data"
    }
   ],
   "source": [
    "data = df_event3_m['立案时间 Date of Filing'].str[:4].value_counts()\n",
    "plt.pie(data, labels=data.index)"
   ]
  },
  {
   "cell_type": "code",
   "execution_count": 359,
   "id": "b142e371",
   "metadata": {},
   "outputs": [
    {
     "data": {
      "text/plain": [
       "['其他妨碍、抗拒执行',\n",
       " '有履行能力而拒不履行生效法律文书确定义务',\n",
       " '违反限制高消费令',\n",
       " '其他规避执行',\n",
       " '违反财产报告制度',\n",
       " '被执行人无正当理由拒不履行执行和解协议',\n",
       " '其他有履行能力而拒不履行生效法律文书确定义务',\n",
       " '转移财产规避执行']"
      ]
     },
     "execution_count": 359,
     "metadata": {},
     "output_type": "execute_result"
    }
   ],
   "source": [
    "behavior_type_list = []\n",
    "for t in df_event3_m['失信被执行人行为具体情形 Person of Execution Untrustworthy Behavior Details'].unique():\n",
    "    behavior_type_list.extend(t.split(','))\n",
    "\n",
    "types = list(set(behavior_type_list))\n",
    "types"
   ]
  },
  {
   "cell_type": "code",
   "execution_count": 361,
   "id": "8e238b27",
   "metadata": {},
   "outputs": [
    {
     "name": "stdout",
     "output_type": "stream",
     "text": [
      "其他妨碍、抗拒执行\n",
      "32\n",
      "有履行能力而拒不履行生效法律文书确定义务\n",
      "980\n",
      "违反限制高消费令\n",
      "5\n",
      "其他规避执行\n",
      "120\n",
      "违反财产报告制度\n",
      "384\n",
      "被执行人无正当理由拒不履行执行和解协议\n",
      "42\n",
      "其他有履行能力而拒不履行生效法律文书确定义务\n",
      "24\n",
      "转移财产规避执行\n",
      "1\n"
     ]
    }
   ],
   "source": [
    "df_event3_m['失信被执行人行为具体情形 Person of Execution Untrustworthy Behavior Details'] = df_event3_m['失信被执行人行为具体情形 Person of Execution Untrustworthy Behavior Details'].str.split(',')\n",
    "\n",
    "# create 8 new columns\n",
    "for t in types:\n",
    "    df_event3_m[t] = 0\n",
    "\n",
    "# set 1 if the row belong to the type\n",
    "for i in df_event3_m.index:\n",
    "    v = df_event3_m.loc[i, '失信被执行人行为具体情形 Person of Execution Untrustworthy Behavior Details']\n",
    "    for t in types:\n",
    "        if t in v:\n",
    "            # set to 1\n",
    "            df_event3_m.loc[i, t] = 1\n",
    "            \n",
    "t_x = []\n",
    "t_y = []\n",
    "for t in types:\n",
    "    t_x.append(t)\n",
    "    t_y.append(df_event3_m[t].sum())"
   ]
  },
  {
   "cell_type": "code",
   "execution_count": 387,
   "id": "dd6fb79c",
   "metadata": {},
   "outputs": [
    {
     "data": {
      "text/plain": [
       "[Text(0, 0, '32'),\n",
       " Text(0, 0, '980'),\n",
       " Text(0, 0, '5'),\n",
       " Text(0, 0, '120'),\n",
       " Text(0, 0, '384'),\n",
       " Text(0, 0, '42'),\n",
       " Text(0, 0, '24'),\n",
       " Text(0, 0, '1')]"
      ]
     },
     "execution_count": 387,
     "metadata": {},
     "output_type": "execute_result"
    },
    {
     "data": {
      "image/png": "[encoded data removed]",
      "text/plain": [
       "<Figure size 432x288 with 1 Axes>"
      ]
     },
     "metadata": {
      "needs_background": "light"
     },
     "output_type": "display_data"
    }
   ],
   "source": [
    "b = plt.barh(t_x, t_y)\n",
    "plt.bar_label(b)"
   ]
  },
  {
   "cell_type": "markdown",
   "id": "cccd7743",
   "metadata": {},
   "source": [
    "## event2"
   ]
  },
  {
   "cell_type": "code",
   "execution_count": 399,
   "id": "a5a04950",
   "metadata": {},
   "outputs": [
    {
     "data": {
      "text/plain": [
       "5"
      ]
     },
     "execution_count": 399,
     "metadata": {},
     "output_type": "execute_result"
    }
   ],
   "source": [
    "df_event_a_taxpayer.duplicated().sum()"
   ]
  },
  {
   "cell_type": "code",
   "execution_count": 400,
   "id": "2a870d2c",
   "metadata": {},
   "outputs": [
    {
     "data": {
      "text/html": [
       "<div>\n",
       "<style scoped>\n",
       "    .dataframe tbody tr th:only-of-type {\n",
       "        vertical-align: middle;\n",
       "    }\n",
       "\n",
       "    .dataframe tbody tr th {\n",
       "        vertical-align: top;\n",
       "    }\n",
       "\n",
       "    .dataframe thead th {\n",
       "        text-align: right;\n",
       "    }\n",
       "</style>\n",
       "<table border=\"1\" class=\"dataframe\">\n",
       "  <thead>\n",
       "    <tr style=\"text-align: right;\">\n",
       "      <th></th>\n",
       "      <th>统一社会信用代码 Unified Social Credit Identifier</th>\n",
       "      <th>company_name</th>\n",
       "      <th>纳税人名称 Taxpayer name</th>\n",
       "      <th>纳税人识别号 Taxpayer ID</th>\n",
       "      <th>评价年度 Evaluation year</th>\n",
       "      <th>数据来源 Data sources</th>\n",
       "    </tr>\n",
       "  </thead>\n",
       "  <tbody>\n",
       "    <tr>\n",
       "      <th>121</th>\n",
       "      <td>91320100134881640F</td>\n",
       "      <td>南京中央商场(集团)股份有限公司</td>\n",
       "      <td>南京中央商场(集团)股份有限公司</td>\n",
       "      <td>91320100134881640F</td>\n",
       "      <td>2017.0</td>\n",
       "      <td>国家税务总局</td>\n",
       "    </tr>\n",
       "    <tr>\n",
       "      <th>122</th>\n",
       "      <td>91320100134881640F</td>\n",
       "      <td>南京中央商场(集团)股份有限公司</td>\n",
       "      <td>南京中央商场(集团)股份有限公司</td>\n",
       "      <td>91320100134881640F</td>\n",
       "      <td>2017.0</td>\n",
       "      <td>国家税务总局</td>\n",
       "    </tr>\n",
       "    <tr>\n",
       "      <th>5003</th>\n",
       "      <td>91650100228584428B</td>\n",
       "      <td>新疆友好(集团)股份有限公司</td>\n",
       "      <td>新疆友好(集团)股份有限公司</td>\n",
       "      <td>91650100228584428B</td>\n",
       "      <td>2017.0</td>\n",
       "      <td>国家税务总局</td>\n",
       "    </tr>\n",
       "    <tr>\n",
       "      <th>5004</th>\n",
       "      <td>91650100228584428B</td>\n",
       "      <td>新疆友好(集团)股份有限公司</td>\n",
       "      <td>新疆友好(集团)股份有限公司</td>\n",
       "      <td>91650100228584428B</td>\n",
       "      <td>2017.0</td>\n",
       "      <td>国家税务总局</td>\n",
       "    </tr>\n",
       "    <tr>\n",
       "      <th>12412</th>\n",
       "      <td>91500102208507353E</td>\n",
       "      <td>重庆太极实业(集团)股份有限公司</td>\n",
       "      <td>重庆太极实业(集团)股份有限公司</td>\n",
       "      <td>91500102208507353E</td>\n",
       "      <td>2017.0</td>\n",
       "      <td>国家税务总局</td>\n",
       "    </tr>\n",
       "    <tr>\n",
       "      <th>12413</th>\n",
       "      <td>91500102208507353E</td>\n",
       "      <td>重庆太极实业(集团)股份有限公司</td>\n",
       "      <td>重庆太极实业(集团)股份有限公司</td>\n",
       "      <td>91500102208507353E</td>\n",
       "      <td>2017.0</td>\n",
       "      <td>国家税务总局</td>\n",
       "    </tr>\n",
       "    <tr>\n",
       "      <th>12717</th>\n",
       "      <td>91640000227693286K</td>\n",
       "      <td>银川新华百货商业集团股份有限公司</td>\n",
       "      <td>银川新华百货商业集团股份有限公司</td>\n",
       "      <td>91640000227693286K</td>\n",
       "      <td>2016.0</td>\n",
       "      <td>国家税务总局</td>\n",
       "    </tr>\n",
       "    <tr>\n",
       "      <th>12722</th>\n",
       "      <td>91640000227693286K</td>\n",
       "      <td>银川新华百货商业集团股份有限公司</td>\n",
       "      <td>银川新华百货商业集团股份有限公司</td>\n",
       "      <td>91640000227693286K</td>\n",
       "      <td>2016.0</td>\n",
       "      <td>国家税务总局</td>\n",
       "    </tr>\n",
       "    <tr>\n",
       "      <th>14381</th>\n",
       "      <td>91620000224336881T</td>\n",
       "      <td>兰州丽尚国潮实业集团股份有限公司</td>\n",
       "      <td>兰州民百(集团)股份有限公司</td>\n",
       "      <td>91620000224336881T</td>\n",
       "      <td>2017.0</td>\n",
       "      <td>国家税务总局</td>\n",
       "    </tr>\n",
       "    <tr>\n",
       "      <th>14382</th>\n",
       "      <td>91620000224336881T</td>\n",
       "      <td>兰州丽尚国潮实业集团股份有限公司</td>\n",
       "      <td>兰州民百(集团)股份有限公司</td>\n",
       "      <td>91620000224336881T</td>\n",
       "      <td>2017.0</td>\n",
       "      <td>国家税务总局</td>\n",
       "    </tr>\n",
       "  </tbody>\n",
       "</table>\n",
       "</div>"
      ],
      "text/plain": [
       "      统一社会信用代码 Unified Social Credit Identifier      company_name  \\\n",
       "121                          91320100134881640F  南京中央商场(集团)股份有限公司   \n",
       "122                          91320100134881640F  南京中央商场(集团)股份有限公司   \n",
       "5003                         91650100228584428B    新疆友好(集团)股份有限公司   \n",
       "5004                         91650100228584428B    新疆友好(集团)股份有限公司   \n",
       "12412                        91500102208507353E  重庆太极实业(集团)股份有限公司   \n",
       "12413                        91500102208507353E  重庆太极实业(集团)股份有限公司   \n",
       "12717                        91640000227693286K  银川新华百货商业集团股份有限公司   \n",
       "12722                        91640000227693286K  银川新华百货商业集团股份有限公司   \n",
       "14381                        91620000224336881T  兰州丽尚国潮实业集团股份有限公司   \n",
       "14382                        91620000224336881T  兰州丽尚国潮实业集团股份有限公司   \n",
       "\n",
       "      纳税人名称 Taxpayer name  纳税人识别号 Taxpayer ID  评价年度 Evaluation year  \\\n",
       "121      南京中央商场(集团)股份有限公司  91320100134881640F                2017.0   \n",
       "122      南京中央商场(集团)股份有限公司  91320100134881640F                2017.0   \n",
       "5003       新疆友好(集团)股份有限公司  91650100228584428B                2017.0   \n",
       "5004       新疆友好(集团)股份有限公司  91650100228584428B                2017.0   \n",
       "12412    重庆太极实业(集团)股份有限公司  91500102208507353E                2017.0   \n",
       "12413    重庆太极实业(集团)股份有限公司  91500102208507353E                2017.0   \n",
       "12717    银川新华百货商业集团股份有限公司  91640000227693286K                2016.0   \n",
       "12722    银川新华百货商业集团股份有限公司  91640000227693286K                2016.0   \n",
       "14381      兰州民百(集团)股份有限公司  91620000224336881T                2017.0   \n",
       "14382      兰州民百(集团)股份有限公司  91620000224336881T                2017.0   \n",
       "\n",
       "      数据来源 Data sources  \n",
       "121              国家税务总局  \n",
       "122              国家税务总局  \n",
       "5003             国家税务总局  \n",
       "5004             国家税务总局  \n",
       "12412            国家税务总局  \n",
       "12413            国家税务总局  \n",
       "12717            国家税务总局  \n",
       "12722            国家税务总局  \n",
       "14381            国家税务总局  \n",
       "14382            国家税务总局  "
      ]
     },
     "execution_count": 400,
     "metadata": {},
     "output_type": "execute_result"
    }
   ],
   "source": [
    "df_event_a_taxpayer[df_event_a_taxpayer.duplicated(keep=False)]"
   ]
  },
  {
   "cell_type": "code",
   "execution_count": 401,
   "id": "ec9d2f5c",
   "metadata": {},
   "outputs": [
    {
     "data": {
      "text/plain": [
       "0"
      ]
     },
     "execution_count": 401,
     "metadata": {},
     "output_type": "execute_result"
    }
   ],
   "source": [
    "df_event_custom.duplicated().sum()"
   ]
  },
  {
   "cell_type": "markdown",
   "id": "a52bb6d7",
   "metadata": {},
   "source": [
    "## event1"
   ]
  },
  {
   "cell_type": "code",
   "execution_count": 405,
   "id": "fc90afeb",
   "metadata": {},
   "outputs": [
    {
     "data": {
      "text/plain": [
       "0"
      ]
     },
     "execution_count": 405,
     "metadata": {},
     "output_type": "execute_result"
    }
   ],
   "source": [
    "# penalty\n",
    "df_event_penalty.duplicated().sum()"
   ]
  },
  {
   "cell_type": "code",
   "execution_count": 410,
   "id": "0f4feb07",
   "metadata": {},
   "outputs": [],
   "source": [
    "# change -- to 0\n",
    "i = df_event_penalty[df_event_penalty['罚款金额(万元) Fine Amount, 10k Yuan']=='— —'].index\n",
    "df_event_penalty.loc[i, '罚款金额(万元) Fine Amount, 10k Yuan'] = 0\n",
    "\n",
    "i = df_event_penalty[df_event_penalty['没收违法所得、没收非法财物的金额（万元）Confiscation of Illegal Gains, 10k Yuan']=='— —'].index\n",
    "df_event_penalty.loc[i, '没收违法所得、没收非法财物的金额（万元）Confiscation of Illegal Gains, 10k Yuan'] = 0"
   ]
  },
  {
   "cell_type": "code",
   "execution_count": 424,
   "id": "f7b9365d",
   "metadata": {},
   "outputs": [
    {
     "name": "stdout",
     "output_type": "stream",
     "text": [
      "9                                           暂扣安全生产许可证30天\n",
      "10                                          暂扣安全生产许可证30天\n",
      "11                                          暂扣安全生产许可证30天\n",
      "116                                                   警告\n",
      "191                                             责令停止违法行为\n",
      "257    生产、销售不符合保障人体健康和人身、财产安全的国家标准、行业标准的产品的,责令停止生产、销售...\n",
      "279               没收Y系列三相异步电动机Y225M-4型(编号:03553)等11台电动机。\n",
      "323                                              不予行政处罚。\n",
      "330                                          罚款人民币零元(0元)\n",
      "336                                            违法事实不能成立。\n",
      "337                                             警告&警告&警告\n",
      "363                                              不予行政处罚。\n",
      "Name: 处罚内容 Penalty Content, dtype: object\n"
     ]
    }
   ],
   "source": [
    "# prepare data for bar chart\n",
    "x = []\n",
    "y = []\n",
    "\n",
    "# fine\n",
    "df_event_penalty['罚款金额(万元) Fine Amount, 10k Yuan'] = df_event_penalty['罚款金额(万元) Fine Amount, 10k Yuan'].astype(float)\n",
    "x.append('Fine amount')\n",
    "y.append((df_event_penalty['罚款金额(万元) Fine Amount, 10k Yuan']>0).sum())\n",
    "\n",
    "# confiscation\n",
    "df_event_penalty['没收违法所得、没收非法财物的金额（万元）Confiscation of Illegal Gains, 10k Yuan'] = df_event_penalty['没收违法所得、没收非法财物的金额（万元）Confiscation of Illegal Gains, 10k Yuan'].astype(float)\n",
    "x.append('Confiscation')\n",
    "y.append((df_event_penalty['没收违法所得、没收非法财物的金额（万元）Confiscation of Illegal Gains, 10k Yuan']>0).sum())\n",
    "\n",
    "# license\n",
    "# TODO update for daughters\n",
    "x.append('License')\n",
    "y.append(3)\n",
    "\n",
    "# others\n",
    "other_s = df_event_penalty[(df_event_penalty['没收违法所得、没收非法财物的金额（万元）Confiscation of Illegal Gains, 10k Yuan'] \n",
    "                            == 0) & (df_event_penalty['罚款金额(万元) Fine Amount, 10k Yuan']== 0)]['处罚内容 Penalty Content']\n",
    "\n",
    "print(other_s)\n",
    "x.append('Others')\n",
    "y.append(other_s.count() - 3) # TODO: split licensem, confiscation by code from others"
   ]
  },
  {
   "cell_type": "code",
   "execution_count": 425,
   "id": "ef6b3a7a",
   "metadata": {},
   "outputs": [
    {
     "data": {
      "text/plain": [
       "[Text(0, 0, '350'), Text(0, 0, '16'), Text(0, 0, '3'), Text(0, 0, '9')]"
      ]
     },
     "execution_count": 425,
     "metadata": {},
     "output_type": "execute_result"
    },
    {
     "data": {
      "image/png": "[encoded data removed]",
      "text/plain": [
       "<Figure size 432x288 with 1 Axes>"
      ]
     },
     "metadata": {
      "needs_background": "light"
     },
     "output_type": "display_data"
    }
   ],
   "source": [
    "b = plt.barh(x, y)\n",
    "plt.bar_label(b)"
   ]
  },
  {
   "cell_type": "code",
   "execution_count": 427,
   "id": "443a5dd6",
   "metadata": {},
   "outputs": [
    {
     "data": {
      "text/plain": [
       "<AxesSubplot: >"
      ]
     },
     "execution_count": 427,
     "metadata": {},
     "output_type": "execute_result"
    },
    {
     "data": {
      "image/png": "[encoded data removed]",
      "text/plain": [
       "<Figure size 432x288 with 1 Axes>"
      ]
     },
     "metadata": {
      "needs_background": "light"
     },
     "output_type": "display_data"
    }
   ],
   "source": [
    "data = df_event_penalty[df_event_penalty['罚款金额(万元) Fine Amount, 10k Yuan']>0]['罚款金额(万元) Fine Amount, 10k Yuan']\n",
    "sns.boxplot(data)"
   ]
  },
  {
   "cell_type": "code",
   "execution_count": 445,
   "id": "0b0fdb01",
   "metadata": {},
   "outputs": [
    {
     "data": {
      "text/plain": [
       "(0.0, 1.0)"
      ]
     },
     "execution_count": 445,
     "metadata": {},
     "output_type": "execute_result"
    },
    {
     "data": {
      "image/png": "[encoded data removed]",
      "text/plain": [
       "<Figure size 432x288 with 1 Axes>"
      ]
     },
     "metadata": {
      "needs_background": "light"
     },
     "output_type": "display_data"
    }
   ],
   "source": [
    "data = df_event_penalty[(df_event_penalty['没收违法所得、没收非法财物的金额（万元）Confiscation of Illegal Gains, 10k Yuan'] \n",
    "                            > 0) | (df_event_penalty['罚款金额(万元) Fine Amount, 10k Yuan']>0)]\n",
    "sns.scatterplot(data, x='罚款金额(万元) Fine Amount, 10k Yuan', y=\n",
    "                '没收违法所得、没收非法财物的金额（万元）Confiscation of Illegal Gains, 10k Yuan',\n",
    "               hue='处罚类别 Penalty Type')\n",
    "#plt.xlabel('Fine Amount, 10k Yuan')\n",
    "#plt.ylabel('Confiscation of Illegal Gains, 10k Yuan')\n",
    "plt.xlim(0, 150)\n",
    "plt.ylim(0, 1)"
   ]
  },
  {
   "cell_type": "code",
   "execution_count": 447,
   "id": "9bce80fc",
   "metadata": {},
   "outputs": [
    {
     "data": {
      "text/plain": [
       "Text(0.5, 1.0, 'decision date')"
      ]
     },
     "execution_count": 447,
     "metadata": {},
     "output_type": "execute_result"
    },
    {
     "data": {
      "image/png": "[encoded data removed]",
      "text/plain": [
       "<Figure size 432x288 with 1 Axes>"
      ]
     },
     "metadata": {},
     "output_type": "display_data"
    }
   ],
   "source": [
    "# permit old\n",
    "year = df_event_permit_old['许可决定日期 Permission decision date'].str[:4].value_counts()\n",
    "plt.pie(year, labels=year.index)\n",
    "plt.title('decision date')"
   ]
  },
  {
   "cell_type": "code",
   "execution_count": 452,
   "id": "5b731707",
   "metadata": {},
   "outputs": [
    {
     "data": {
      "text/plain": [
       "Text(0.5, 1.0, 'Audit type')"
      ]
     },
     "execution_count": 452,
     "metadata": {},
     "output_type": "execute_result"
    },
    {
     "data": {
      "image/png": "[encoded data removed]",
      "text/plain": [
       "<Figure size 432x288 with 1 Axes>"
      ]
     },
     "metadata": {},
     "output_type": "display_data"
    }
   ],
   "source": [
    "data = df_event_permit_old['审核类型 Audit Type'].value_counts()\n",
    "plt.pie(data, labels=data.index)\n",
    "plt.title('Audit type')"
   ]
  },
  {
   "cell_type": "code",
   "execution_count": 454,
   "id": "34715418",
   "metadata": {},
   "outputs": [
    {
     "data": {
      "text/plain": [
       "Text(0.5, 1.0, 'Type of Permission')"
      ]
     },
     "execution_count": 454,
     "metadata": {},
     "output_type": "execute_result"
    },
    {
     "data": {
      "image/png": "[encoded data removed]",
      "text/plain": [
       "<Figure size 432x288 with 1 Axes>"
      ]
     },
     "metadata": {},
     "output_type": "display_data"
    }
   ],
   "source": [
    "# permit new\n",
    "data = df_event_permit_new['许可类别 Type of Permission']\n",
    "data = data.str[:2].value_counts()\n",
    "plt.pie(data, labels=data.index)\n",
    "plt.title('Type of Permission')"
   ]
  },
  {
   "cell_type": "code",
   "execution_count": 455,
   "id": "6ffae5d3",
   "metadata": {},
   "outputs": [
    {
     "data": {
      "text/plain": [
       "Text(0.5, 1.0, 'Permission  Decision Valid From')"
      ]
     },
     "execution_count": 455,
     "metadata": {},
     "output_type": "execute_result"
    },
    {
     "data": {
      "image/png": "[encoded data removed]",
      "text/plain": [
       "<Figure size 432x288 with 1 Axes>"
      ]
     },
     "metadata": {},
     "output_type": "display_data"
    }
   ],
   "source": [
    "year = df_event_permit_new['有效期自 Permission  Decision Valid From'].str[:4].value_counts()\n",
    "plt.pie(year, labels=year.index)\n",
    "plt.title('Permission  Decision Valid From')"
   ]
  },
  {
   "cell_type": "markdown",
   "id": "45223b01",
   "metadata": {},
   "source": [
    "# 4. Category events"
   ]
  },
  {
   "cell_type": "code",
   "execution_count": null,
   "id": "18ac0346",
   "metadata": {},
   "outputs": [],
   "source": []
  }
 ],
 "metadata": {
  "kernelspec": {
   "display_name": "Python 3 (ipykernel)",
   "language": "python",
   "name": "python3"
  },
  "language_info": {
   "codemirror_mode": {
    "name": "ipython",
    "version": 3
   },
   "file_extension": ".py",
   "mimetype": "text/x-python",
   "name": "python",
   "nbconvert_exporter": "python",
   "pygments_lexer": "ipython3",
   "version": "3.9.7"
  }
 },
 "nbformat": 4,
 "nbformat_minor": 5
}
