{
 "cells": [
  {
   "cell_type": "code",
   "execution_count": 1,
   "id": "9a793e77",
   "metadata": {},
   "outputs": [],
   "source": [
    "\"\"\"\n",
    "tune_theme_estimators\n",
    "\n",
    "The notebook is used to tune the hyperparameters in Naiva Bayes estimaters for the theme classifications\n",
    "\"\"\"\n",
    "\n",
    "\n",
    "# for jupyter notebook\n",
    "from pathlib import Path\n",
    "import sys\n",
    "\n",
    "sys.path.insert(0, str(Path().resolve().parents[0].parents[0]))\n",
    "\n",
    "from src.data_transformation.utils import *\n",
    "from src.data_transformation.theme_classification import *"
   ]
  },
  {
   "cell_type": "markdown",
   "id": "3e8edc9b",
   "metadata": {},
   "source": [
    "## Tune Event: penalty\n",
    "\n",
    "Best parameter settings:\n",
    "- min_df: 2\n",
    "- max_df: 1000\n",
    "- alpha: 0.1\n",
    "- t: none\n",
    "- s: 1000"
   ]
  },
  {
   "cell_type": "code",
   "execution_count": null,
   "id": "48d7315e",
   "metadata": {},
   "outputs": [],
   "source": [
    "#-----------------------1. check WORD CLOUD -------------------\n",
    "print('prepare data source[content, theme]...')\n",
    "\n",
    "df_event_penalty = pd.read_excel(os.path.join(sub_event_path, '12_event_penalty.xlsx'))\n",
    "\n",
    "ds_train, ds_unseen, df_train, df_test = prepare_penalty_ds(df_event_penalty)\n",
    "\n",
    "#show_wordcloud_for_event(ds_train, 'Penalty ')"
   ]
  },
  {
   "cell_type": "code",
   "execution_count": null,
   "id": "92b78d7d",
   "metadata": {
    "scrolled": true
   },
   "outputs": [],
   "source": [
    "#-----------------------2. Tuning: GET the best Parameter values-------------------\n",
    "# parameter options\n",
    "s_count_l = [100, 700, 1000]\n",
    "min_df_l = [3, 5]\n",
    "max_df_l = [100, 1000]\n",
    "alpha_l = [0.0001, 0.01, 0.5]\n",
    "t_l = []\n",
    "\n",
    "tune_hyperparameters(df_train, t_l, min_df_l, max_df_l, alpha_l, s_count_l)"
   ]
  },
  {
   "cell_type": "code",
   "execution_count": null,
   "id": "e626328a",
   "metadata": {},
   "outputs": [],
   "source": [
    "#-----------------------3. get generalization performance-------------------\n",
    "generalization_performance(df_train, df_test, 0, 2, 1000, 0.1, 1000)"
   ]
  },
  {
   "cell_type": "code",
   "execution_count": null,
   "id": "ae1d3b1d",
   "metadata": {},
   "outputs": [],
   "source": [
    "# save model\n",
    "save_model(ds_train, 'penalty_model.pickle', 0, 2, 1000, 0.1, 1000)\n",
    "#df_unseen = predict(ds_train, ds_unseen, 'penalty_model.pickle')\n",
    "#save_event_with_theme(df_event_penalty, ds_train, df_unseen, '12_event_penalty.xlsx')"
   ]
  },
  {
   "cell_type": "markdown",
   "id": "4289dd96",
   "metadata": {},
   "source": [
    "## Tune Event: permit\n",
    "Best parameter settings:\n",
    "- min_df: 4\n",
    "- max_df: 0.9\n",
    "- alpha: 0.05\n",
    "- t: 0.6\n",
    "\n",
    "- acc 94%/98.77%"
   ]
  },
  {
   "cell_type": "code",
   "execution_count": 2,
   "id": "03be23bf",
   "metadata": {},
   "outputs": [
    {
     "name": "stdout",
     "output_type": "stream",
     "text": [
      "prepare data source[content, theme]...\n"
     ]
    },
    {
     "name": "stderr",
     "output_type": "stream",
     "text": [
      "extract theme: 100%|████████████████████████████████████████████████████████| 765607/765607 [00:41<00:00, 18248.12it/s]\n",
      "connect content: 765607it [01:41, 7571.49it/s] \n"
     ]
    },
    {
     "name": "stdout",
     "output_type": "stream",
     "text": [
      "765607 records totally. 74093 records have no themes\n",
      "theme distribution\n"
     ]
    },
    {
     "data": {
      "text/html": [
       "<div>\n",
       "<style scoped>\n",
       "    .dataframe tbody tr th:only-of-type {\n",
       "        vertical-align: middle;\n",
       "    }\n",
       "\n",
       "    .dataframe tbody tr th {\n",
       "        vertical-align: top;\n",
       "    }\n",
       "\n",
       "    .dataframe thead th {\n",
       "        text-align: right;\n",
       "    }\n",
       "</style>\n",
       "<table border=\"1\" class=\"dataframe\">\n",
       "  <thead>\n",
       "    <tr style=\"text-align: right;\">\n",
       "      <th></th>\n",
       "      <th>theme</th>\n",
       "    </tr>\n",
       "  </thead>\n",
       "  <tbody>\n",
       "    <tr>\n",
       "      <th>Administration for Market Regulation</th>\n",
       "      <td>311093</td>\n",
       "    </tr>\n",
       "    <tr>\n",
       "      <th>Agriculture and Rural Areas</th>\n",
       "      <td>9793</td>\n",
       "    </tr>\n",
       "    <tr>\n",
       "      <th>Business and Commerce</th>\n",
       "      <td>9564</td>\n",
       "    </tr>\n",
       "    <tr>\n",
       "      <th>Development and Reform</th>\n",
       "      <td>7744</td>\n",
       "    </tr>\n",
       "    <tr>\n",
       "      <th>Ecology and Environment</th>\n",
       "      <td>42653</td>\n",
       "    </tr>\n",
       "    <tr>\n",
       "      <th>Education science culture</th>\n",
       "      <td>8018</td>\n",
       "    </tr>\n",
       "    <tr>\n",
       "      <th>Financial Supervision</th>\n",
       "      <td>9132</td>\n",
       "    </tr>\n",
       "    <tr>\n",
       "      <th>Health</th>\n",
       "      <td>7352</td>\n",
       "    </tr>\n",
       "    <tr>\n",
       "      <th>Housing and Urban and Rural Construction</th>\n",
       "      <td>85673</td>\n",
       "    </tr>\n",
       "    <tr>\n",
       "      <th>Human Resources and Social Security</th>\n",
       "      <td>18154</td>\n",
       "    </tr>\n",
       "    <tr>\n",
       "      <th>Industry and Information</th>\n",
       "      <td>6008</td>\n",
       "    </tr>\n",
       "    <tr>\n",
       "      <th>Military Defense</th>\n",
       "      <td>4291</td>\n",
       "    </tr>\n",
       "    <tr>\n",
       "      <th>Natural Resources</th>\n",
       "      <td>49179</td>\n",
       "    </tr>\n",
       "    <tr>\n",
       "      <th>Public Security</th>\n",
       "      <td>21970</td>\n",
       "    </tr>\n",
       "    <tr>\n",
       "      <th>Taxation</th>\n",
       "      <td>59213</td>\n",
       "    </tr>\n",
       "    <tr>\n",
       "      <th>Transportation</th>\n",
       "      <td>29232</td>\n",
       "    </tr>\n",
       "    <tr>\n",
       "      <th>Water Resources</th>\n",
       "      <td>12445</td>\n",
       "    </tr>\n",
       "  </tbody>\n",
       "</table>\n",
       "</div>"
      ],
      "text/plain": [
       "                                           theme\n",
       "Administration for Market Regulation      311093\n",
       "Agriculture and Rural Areas                 9793\n",
       "Business and Commerce                       9564\n",
       "Development and Reform                      7744\n",
       "Ecology and Environment                    42653\n",
       "Education science culture                   8018\n",
       "Financial Supervision                       9132\n",
       "Health                                      7352\n",
       "Housing and Urban and Rural Construction   85673\n",
       "Human Resources and Social Security        18154\n",
       "Industry and Information                    6008\n",
       "Military Defense                            4291\n",
       "Natural Resources                          49179\n",
       "Public Security                            21970\n",
       "Taxation                                   59213\n",
       "Transportation                             29232\n",
       "Water Resources                            12445"
      ]
     },
     "metadata": {},
     "output_type": "display_data"
    },
    {
     "data": {
      "image/png": "[encoded data removed]",
      "text/plain": [
       "<Figure size 432x288 with 1 Axes>"
      ]
     },
     "metadata": {
      "needs_background": "light"
     },
     "output_type": "display_data"
    },
    {
     "name": "stderr",
     "output_type": "stream",
     "text": [
      "cut content:   0%|                                                                          | 0/765607 [00:00<?, ?it/s]Building prefix dict from the default dictionary ...\n",
      "Dumping model to file cache C:\\Users\\f-li\\AppData\\Local\\Temp\\jieba.cache\n",
      "Loading model cost 0.922 seconds.\n",
      "Prefix dict has been built successfully.\n",
      "cut content: 100%|███████████████████████████████████████████████████████████| 765607/765607 [08:33<00:00, 1492.21it/s]\n"
     ]
    },
    {
     "name": "stdout",
     "output_type": "stream",
     "text": [
      "records without theme: 74093; records with theme: 691514\n",
      "training set after removing the records with empty content: 686364\n"
     ]
    }
   ],
   "source": [
    "#-----------------------1. check WORD CLOUD -------------------\n",
    "print('prepare data source[content, theme]...')\n",
    "\n",
    "df_event_permit = pd.read_excel(os.path.join(sub_event_path, '11_event_permit.xlsx'))\n",
    "\n",
    "ds_train, ds_unseen, df_train, df_test = prepare_permit_ds(df_event_permit)\n",
    "\n",
    "#show_wordcloud_for_event(ds_train, 'Permit ')"
   ]
  },
  {
   "cell_type": "markdown",
   "id": "f5605f40",
   "metadata": {},
   "source": [
    "# prepare_permit_ds() needs to much time to run\n",
    "save_dir = os.path.join(data_path, 'models', 'train')\n",
    "\n",
    "#ds_train.to_excel(os.path.join(save_dir, 'permit_ds_train.xlsx'), index=False)\n",
    "#ds_unseen.to_excel(os.path.join(save_dir, 'permit_ds_unseen.xlsx'), index=False)\n",
    "#df_train.to_excel(os.path.join(save_dir, 'permit_df_train.xlsx'), index=False)\n",
    "#df_test.to_excel(os.path.join(save_dir, 'permit_df_test.xlsx'), index=False)\n",
    "\n",
    "ds_train = pd.read_excel(os.path.join(save_dir, 'permit_ds_train.xlsx'))\n",
    "ds_unseen = pd.read_excel(os.path.join(save_dir, 'permit_ds_unseen.xlsx'))\n",
    "df_train = pd.read_excel(os.path.join(save_dir, 'permit_df_train.xlsx'))\n",
    "df_test = pd.read_excel(os.path.join(save_dir, 'permit_df_test.xlsx'))"
   ]
  },
  {
   "cell_type": "code",
   "execution_count": 10,
   "id": "9bf5b4d1",
   "metadata": {},
   "outputs": [
    {
     "name": "stdout",
     "output_type": "stream",
     "text": [
      "tune min_df...\n",
      "tune max_df...\n",
      "max_df=1500\n",
      "encode target...\n",
      "cross validation...\n",
      "Balancing: Get the random 2728 records in each Theme...\n",
      "generate features...\n",
      "features: (46376, 4892)\n",
      "fit estimator...\n",
      "predict...\n",
      "Balancing: Get the random 2728 records in each Theme...\n",
      "generate features...\n",
      "features: (46376, 4946)\n",
      "fit estimator...\n",
      "predict...\n",
      "Balancing: Get the random 2728 records in each Theme...\n",
      "generate features...\n",
      "features: (46376, 4870)\n",
      "fit estimator...\n",
      "predict...\n",
      "Balancing: Get the random 2728 records in each Theme...\n",
      "generate features...\n",
      "features: (46376, 4868)\n",
      "fit estimator...\n",
      "predict...\n",
      "Balancing: Get the random 2728 records in each Theme...\n",
      "generate features...\n",
      "features: (46376, 4837)\n",
      "fit estimator...\n",
      "predict...\n",
      "the records failed to predict...\n"
     ]
    },
    {
     "data": {
      "text/html": [
       "<div>\n",
       "<style scoped>\n",
       "    .dataframe tbody tr th:only-of-type {\n",
       "        vertical-align: middle;\n",
       "    }\n",
       "\n",
       "    .dataframe tbody tr th {\n",
       "        vertical-align: top;\n",
       "    }\n",
       "\n",
       "    .dataframe thead th {\n",
       "        text-align: right;\n",
       "    }\n",
       "</style>\n",
       "<table border=\"1\" class=\"dataframe\">\n",
       "  <thead>\n",
       "    <tr style=\"text-align: right;\">\n",
       "      <th></th>\n",
       "      <th>content</th>\n",
       "      <th>theme</th>\n",
       "      <th>count</th>\n",
       "    </tr>\n",
       "  </thead>\n",
       "  <tbody>\n",
       "  </tbody>\n",
       "</table>\n",
       "</div>"
      ],
      "text/plain": [
       "Empty DataFrame\n",
       "Columns: [content, theme, count]\n",
       "Index: []"
      ]
     },
     "metadata": {},
     "output_type": "display_data"
    },
    {
     "name": "stdout",
     "output_type": "stream",
     "text": [
      "prediction percentage: 1.0\n",
      "Confusion Matrix:\n"
     ]
    },
    {
     "data": {
      "image/png": "[encoded data removed]",
      "text/plain": [
       "<Figure size 432x288 with 2 Axes>"
      ]
     },
     "metadata": {
      "needs_background": "light"
     },
     "output_type": "display_data"
    },
    {
     "name": "stdout",
     "output_type": "stream",
     "text": [
      "0        Administration for Market Regulation \n",
      "1                  Agriculture and Rural Areas\n",
      "2                        Business and Commerce\n",
      "3                       Development and Reform\n",
      "4                      Ecology and Environment\n",
      "5                    Education science culture\n",
      "6                        Financial Supervision\n",
      "7                                       Health\n",
      "8     Housing and Urban and Rural Construction\n",
      "9          Human Resources and Social Security\n",
      "10                    Industry and Information\n",
      "11                            Military Defense\n",
      "12                           Natural Resources\n",
      "13                             Public Security\n",
      "14                                    Taxation\n",
      "15                              Transportation\n",
      "16                             Water Resources\n",
      "dtype: object\n",
      "prediction accuracy is 0.8473458862010123; precision:0.7140514836257368; recall: 0.8064525743703065; f1 score： 0.7449989438604353\n",
      "max_df=2500\n",
      "encode target...\n",
      "cross validation...\n",
      "Balancing: Get the random 2728 records in each Theme...\n",
      "generate features...\n",
      "features: (46376, 4919)\n",
      "fit estimator...\n",
      "predict...\n",
      "Balancing: Get the random 2728 records in each Theme...\n",
      "generate features...\n",
      "features: (46376, 4972)\n",
      "fit estimator...\n",
      "predict...\n",
      "Balancing: Get the random 2728 records in each Theme...\n",
      "generate features...\n",
      "features: (46376, 4897)\n",
      "fit estimator...\n",
      "predict...\n",
      "Balancing: Get the random 2728 records in each Theme...\n",
      "generate features...\n",
      "features: (46376, 4896)\n",
      "fit estimator...\n",
      "predict...\n",
      "Balancing: Get the random 2728 records in each Theme...\n",
      "generate features...\n",
      "features: (46376, 4865)\n",
      "fit estimator...\n",
      "predict...\n",
      "the records failed to predict...\n"
     ]
    },
    {
     "data": {
      "text/html": [
       "<div>\n",
       "<style scoped>\n",
       "    .dataframe tbody tr th:only-of-type {\n",
       "        vertical-align: middle;\n",
       "    }\n",
       "\n",
       "    .dataframe tbody tr th {\n",
       "        vertical-align: top;\n",
       "    }\n",
       "\n",
       "    .dataframe thead th {\n",
       "        text-align: right;\n",
       "    }\n",
       "</style>\n",
       "<table border=\"1\" class=\"dataframe\">\n",
       "  <thead>\n",
       "    <tr style=\"text-align: right;\">\n",
       "      <th></th>\n",
       "      <th>content</th>\n",
       "      <th>theme</th>\n",
       "      <th>count</th>\n",
       "    </tr>\n",
       "  </thead>\n",
       "  <tbody>\n",
       "  </tbody>\n",
       "</table>\n",
       "</div>"
      ],
      "text/plain": [
       "Empty DataFrame\n",
       "Columns: [content, theme, count]\n",
       "Index: []"
      ]
     },
     "metadata": {},
     "output_type": "display_data"
    },
    {
     "name": "stdout",
     "output_type": "stream",
     "text": [
      "prediction percentage: 1.0\n",
      "Confusion Matrix:\n"
     ]
    },
    {
     "data": {
      "image/png": "[encoded data removed]",
      "text/plain": [
       "<Figure size 432x288 with 2 Axes>"
      ]
     },
     "metadata": {
      "needs_background": "light"
     },
     "output_type": "display_data"
    },
    {
     "name": "stdout",
     "output_type": "stream",
     "text": [
      "0        Administration for Market Regulation \n",
      "1                  Agriculture and Rural Areas\n",
      "2                        Business and Commerce\n",
      "3                       Development and Reform\n",
      "4                      Ecology and Environment\n",
      "5                    Education science culture\n",
      "6                        Financial Supervision\n",
      "7                                       Health\n",
      "8     Housing and Urban and Rural Construction\n",
      "9          Human Resources and Social Security\n",
      "10                    Industry and Information\n",
      "11                            Military Defense\n",
      "12                           Natural Resources\n",
      "13                             Public Security\n",
      "14                                    Taxation\n",
      "15                              Transportation\n",
      "16                             Water Resources\n",
      "dtype: object\n",
      "prediction accuracy is 0.8707882664257837; precision:0.7288061105798919; recall: 0.8278727564544892; f1 score： 0.7646867104714512\n",
      "The best parameter is 2500.\n",
      "tune alpha...\n",
      "tune threshold...\n",
      "tune sample count...\n"
     ]
    },
    {
     "data": {
      "text/plain": [
       "((None,\n",
       "        accuracy  precision    recall  f1-score\n",
       "  1500  0.847346   0.714051  0.806453  0.744999\n",
       "  2500  0.870788   0.728806  0.827873  0.764687,\n",
       "  None,\n",
       "  None,\n",
       "  None),\n",
       " (None, 2500, None, None, None))"
      ]
     },
     "execution_count": 10,
     "metadata": {},
     "output_type": "execute_result"
    }
   ],
   "source": [
    "#-----------------------2. Tuning: GET the best Parameter values-------------------\n",
    "# parameter options\n",
    "s_count_l = []\n",
    "min_df_l = []\n",
    "max_df_l = [1500, 2500]\n",
    "alpha_l = []\n",
    "t_l = []\n",
    "\n",
    "tune_hyperparameters(df_train, t_l, min_df_l, max_df_l, alpha_l, s_count_l)"
   ]
  },
  {
   "cell_type": "code",
   "execution_count": 32,
   "id": "e9f98fba",
   "metadata": {},
   "outputs": [
    {
     "name": "stdout",
     "output_type": "stream",
     "text": [
      "generate features...\n",
      "Balancing: Get the random 3410 records in each Theme...\n",
      "features: (57970, 14417)\n",
      "encode target...\n",
      "fit estimator...\n",
      "predict...\n",
      "deal with unknown target...\n",
      "32261 records failed to predict...\n",
      "prediction coverage: 0.7649865596293517\n"
     ]
    },
    {
     "name": "stderr",
     "output_type": "stream",
     "text": [
      "X:\\ProjectData\\SCS\\creditchina\\src\\data_transformation\\theme_classification.py:712: FutureWarning: The series.append method is deprecated and will be removed from pandas in a future version. Use pandas.concat instead.\n",
      "  le.fit(y_actual.append(y_predicted))\n",
      "C:\\Users\\f-li\\Miniconda3\\envs\\parsingpdf\\lib\\site-packages\\sklearn\\metrics\\_classification.py:1344: UndefinedMetricWarning: Recall is ill-defined and being set to 0.0 in labels with no true samples. Use `zero_division` parameter to control this behavior.\n",
      "  _warn_prf(average, modifier, msg_start, len(result))\n"
     ]
    },
    {
     "name": "stdout",
     "output_type": "stream",
     "text": [
      "0.7379892622729889 0.8534163382230301 0.6923439524967419 0.7577806780012093\n"
     ]
    }
   ],
   "source": [
    "#-----------------------3. get generalization performance-------------------\n",
    "generalization_performance(df_train, df_test, 0.75, 3, 1.0, 0.1, 1000)"
   ]
  },
  {
   "cell_type": "code",
   "execution_count": 37,
   "id": "2f6debbc",
   "metadata": {},
   "outputs": [
    {
     "name": "stdout",
     "output_type": "stream",
     "text": [
      "predict...\n",
      "deal with unknown target...\n"
     ]
    }
   ],
   "source": [
    "# save model\n",
    "#save_model(ds_train, 'permit_model_without_threshold.pickle', 0, 3, 1.0, 0.1, 1000)\n",
    "df_unseen = predict(ds_train, ds_unseen, 'permit_model.pickle', 0.75)\n",
    "save_event_with_theme(df_event_permit, ds_train, df_unseen, '11_event_permit.xlsx')"
   ]
  },
  {
   "cell_type": "markdown",
   "id": "7d5858fc",
   "metadata": {},
   "source": [
    "## Tune Event: Commitment\n",
    "Best parameter settings:\n",
    "- min_df: 2\n",
    "- max_df: 500\n",
    "- alpha: 0.5\n",
    "- t: 0.65 or none\n",
    "\n"
   ]
  },
  {
   "cell_type": "code",
   "execution_count": null,
   "id": "46297b5c",
   "metadata": {},
   "outputs": [],
   "source": [
    "#-----------------------1. check WORD CLOUD -------------------\n",
    "print('prepare data source[content, theme]...')\n",
    "\n",
    "df_event_commitment = pd.read_excel(os.path.join(sub_event_path, '51_event_commitment_implementation.xlsx'))\n",
    "\n",
    "ds_train, ds_unseen, df_train, df_test = prepare_commitment_ds(df_event_commitment)\n",
    "\n",
    "#show_wordcloud_for_event(ds_train, 'Commit ')"
   ]
  },
  {
   "cell_type": "code",
   "execution_count": null,
   "id": "5eb8205c",
   "metadata": {},
   "outputs": [],
   "source": [
    "#-----------------------2. Tuning: GET the best Parameter values-------------------\n",
    "# parameter options\n",
    "s_count_l = [500, 1000]\n",
    "min_df_l = [2, 7]\n",
    "max_df_l = [100, 500, 1000]\n",
    "alpha_l = [0.0001, 0.01, 0.5]\n",
    "t_l = [0, 0.5]\n",
    "\n",
    "tune_hyperparameters(df_train, t_l, min_df_l, max_df_l, alpha_l, s_count_l)"
   ]
  },
  {
   "cell_type": "code",
   "execution_count": null,
   "id": "9ff43516",
   "metadata": {},
   "outputs": [],
   "source": [
    "#-----------------------3. get generalization performance-------------------\n",
    "generalization_performance(df_train, df_test, 0, 2, 500, 0.5, 650)"
   ]
  },
  {
   "cell_type": "code",
   "execution_count": null,
   "id": "2754a503",
   "metadata": {},
   "outputs": [],
   "source": [
    "# with threshold\n",
    "print(df_test.shape)\n",
    "generalization_performance(df_train, df_test, 0.65, 2, 500, 0.5, 650)"
   ]
  },
  {
   "cell_type": "code",
   "execution_count": null,
   "id": "a387a105",
   "metadata": {},
   "outputs": [],
   "source": [
    "# save the best model\n",
    "save_model(ds_train, 'commit_model.pickle', 0.65, 2, 500, 0.5, 650)\n",
    "#df_unseen = predict(ds_train, ds_unseen, 'commit_model.pickle')\n",
    "#df = save_event_with_theme(df_event_commitment, ds_train, df_unseen, '51_event_commitment_implementation.xlsx')"
   ]
  },
  {
   "cell_type": "code",
   "execution_count": null,
   "id": "d3d965ad",
   "metadata": {},
   "outputs": [],
   "source": [
    "# check unknown\n",
    "df.theme.value_counts()"
   ]
  },
  {
   "cell_type": "code",
   "execution_count": null,
   "id": "9b5ff98d",
   "metadata": {},
   "outputs": [],
   "source": []
  }
 ],
 "metadata": {
  "kernelspec": {
   "display_name": "Python 3 (ipykernel)",
   "language": "python",
   "name": "python3"
  },
  "language_info": {
   "codemirror_mode": {
    "name": "ipython",
    "version": 3
   },
   "file_extension": ".py",
   "mimetype": "text/x-python",
   "name": "python",
   "nbconvert_exporter": "python",
   "pygments_lexer": "ipython3",
   "version": "3.9.7"
  }
 },
 "nbformat": 4,
 "nbformat_minor": 5
}
