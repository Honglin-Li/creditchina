{
 "cells": [
  {
   "cell_type": "code",
   "execution_count": 1,
   "id": "772e17e5-cf75-4f2f-9858-20aee176e01e",
   "metadata": {},
   "outputs": [
    {
     "name": "stderr",
     "output_type": "stream",
     "text": [
      "java version \"1.8.0_311\"\n",
      "Java(TM) SE Runtime Environment (build 1.8.0_311-b11)\n",
      "Java HotSpot(TM) Client VM (build 25.311-b11, mixed mode)\n"
     ]
    }
   ],
   "source": [
    "!java -version"
   ]
  },
  {
   "cell_type": "code",
   "execution_count": 2,
   "id": "98795525-10d9-47dc-879b-47f6beb4e36e",
   "metadata": {},
   "outputs": [],
   "source": [
    "import pandas as pd\n",
    "import xlsxwriter\n",
    "import os\n",
    "from os import listdir\n",
    "from pyprojroot import here\n",
    "import re\n",
    "from tqdm import tqdm\n",
    "from tabula.io import read_pdf\n",
    "from pdfminer.high_level import extract_text, extract_pages\n",
    "import shutil\n",
    "import numpy as np"
   ]
  },
  {
   "cell_type": "code",
   "execution_count": 3,
   "id": "09eceab9-c6c6-4267-bc27-9fe59d609347",
   "metadata": {},
   "outputs": [],
   "source": [
    "# Execute for supressing warnings \n",
    "import warnings\n",
    "warnings.filterwarnings('ignore')"
   ]
  }
 ],
 "metadata": {
  "jupytext": {
   "formats": "ipynb,py:light"
  },
  "kernelspec": {
   "display_name": "Python 3 (ipykernel)",
   "language": "python",
   "name": "python3"
  },
  "language_info": {
   "codemirror_mode": {
    "name": "ipython",
    "version": 3
   },
   "file_extension": ".py",
   "mimetype": "text/x-python",
   "name": "python",
   "nbconvert_exporter": "python",
   "pygments_lexer": "ipython3",
   "version": "3.9.7"
  }
 },
 "nbformat": 4,
 "nbformat_minor": 5
}
