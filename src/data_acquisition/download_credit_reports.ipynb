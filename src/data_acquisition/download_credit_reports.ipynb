{
 "cells": [
  {
   "cell_type": "code",
   "execution_count": null,
   "id": "8606330f",
   "metadata": {},
   "outputs": [],
   "source": [
    "from PDFCollector import PDFCollector\n",
    "\n",
    "# config\n",
    "from pathlib import Path\n",
    "import sys  \n",
    "\n",
    "sys.path.insert(0, str(Path().resolve().parents[0]))\n",
    "\n",
    "from config import *\n"
   ]
  },
  {
   "cell_type": "code",
   "execution_count": null,
   "id": "25255896",
   "metadata": {},
   "outputs": [],
   "source": [
    "def get_mother_name_list():\n",
    "    firms_mothers = pd.read_excel(os.path.join(original_path, 'company_list', 'firm_list.xlsx'))\n",
    "    return firms_mothers.company_name.values\n",
    "                                  \n",
    "def get_daughter_name_list():\n",
    "    firms_daughters = pd.read_stata(os.path.join(original_path, 'company_list', 'unique_subsidiary_names_1999_2021.dta'))\n",
    "    returen list(firms_daughters.RalatedParty.values)"
   ]
  },
  {
   "cell_type": "code",
   "execution_count": null,
   "id": "30884fb0",
   "metadata": {},
   "outputs": [],
   "source": [
    "# download mothers\n",
    "collector = PDFCollector(target_path=os.path.join(original_path, 'mothers_original_pdfs'), \n",
    "                         download_path=r\"C:\\\\Users\\\\f-li\\\\Downloads\", \n",
    "                         wait=300)\n",
    "\n",
    "collector.bulk_download(get_mother_name_list(), bulk_size=150)"
   ]
  },
  {
   "cell_type": "code",
   "execution_count": null,
   "id": "7fb2de6c",
   "metadata": {},
   "outputs": [],
   "source": [
    "# download daughters\n",
    "collector = PDFCollector(target_path=os.path.join(original_path, 'daughters_original_pdfs'), \n",
    "                         download_path=r\"C:\\\\Users\\\\f-li\\\\Downloads\", \n",
    "                         wait=300)\n",
    "\n",
    "collector.bulk_download(get_daughter_name_list(), bulk_size=150)"
   ]
  }
 ],
 "metadata": {
  "kernelspec": {
   "display_name": "Python 3 (ipykernel)",
   "language": "python",
   "name": "python3"
  },
  "language_info": {
   "codemirror_mode": {
    "name": "ipython",
    "version": 3
   },
   "file_extension": ".py",
   "mimetype": "text/x-python",
   "name": "python",
   "nbconvert_exporter": "python",
   "pygments_lexer": "ipython3",
   "version": "3.9.7"
  }
 },
 "nbformat": 4,
 "nbformat_minor": 5
}
